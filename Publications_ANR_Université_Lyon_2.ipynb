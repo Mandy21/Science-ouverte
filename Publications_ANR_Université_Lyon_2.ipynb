{
 "cells": [
  {
   "cell_type": "markdown",
   "id": "a3218180",
   "metadata": {},
   "source": [
    "# Les publications dans HAL de l'UL2, issues des financements de l'ANR\n",
    "\n",
    " ###  <span style=\"color:red\" > Université Lumière Lyon 2 </span>\n",
    " \n",
    " ####  <span style=\"color:orange\" > *Février 2023* </span>"
   ]
  },
  {
   "cell_type": "markdown",
   "id": "353ddc8a",
   "metadata": {},
   "source": [
    "- Le notebook décrit les différentes étapes d'extraction des publications de HAL\n",
    "- On extrait les publications dans HAL(tous types) de l'Université Lyon 2 issues des financements de l'ANR¶\n",
    "- On calcul le taux d'ouverture global pour ces documents ainsi que le taux d'ouverture par laboratoires."
   ]
  },
  {
   "cell_type": "code",
   "execution_count": 48,
   "id": "fdfa8d41",
   "metadata": {},
   "outputs": [],
   "source": [
    "import requests, json, csv\n",
    "import pandas as pd\n",
    "import numpy as np\n",
    "import matplotlib.pyplot as plt\n",
    "%matplotlib inline\n",
    "pd.set_option('display.max_columns', None)\n",
    "import seaborn as sns"
   ]
  },
  {
   "cell_type": "markdown",
   "id": "84004865",
   "metadata": {},
   "source": [
    "## <span style=\"color:black\" > 1 Les données </span>"
   ]
  },
  {
   "cell_type": "code",
   "execution_count": 5,
   "id": "05c8bca3",
   "metadata": {},
   "outputs": [],
   "source": [
    "req = requests.get('https://api.archives-ouvertes.fr/search/?q=structId_i:33804&fq=anrProject_t:[\"\" TO *]&rows=20000\\\n",
    "&fl=publicationDateY_i,docType_s,title_s,doiId_s,domainAllCode_s,\\\n",
    "domain_s,domain_t,primaryDomain_s,journalTitle_s, journalPublisher_s,journalIssn_s,language_s,instStructName_s,\\\n",
    "                     instStructId_i,instStructAcronym_s,anrProjectYearDate_s,anrProjectTitle_s,anrProjectTitle_t\\\n",
    "                      anrProjectTitleId_fs,anrProjectReference_t,anrProjectId_i,anrProjectCallTitle_s\\\n",
    "                      anrProjectCallAcronym_s,anrProjectAcronym_s,openAccess_bool,labStructAcronym_s,labStructName_s,\\\n",
    "                      labStructId_i')\n",
    "req_json = req.json()\n",
    "anr_hal_lyon2_liste = req_json[\"response\"]['docs']"
   ]
  },
  {
   "cell_type": "code",
   "execution_count": 6,
   "id": "59291ec7",
   "metadata": {
    "scrolled": true
   },
   "outputs": [
    {
     "data": {
      "text/plain": [
       "(2728, 25)"
      ]
     },
     "execution_count": 6,
     "metadata": {},
     "output_type": "execute_result"
    }
   ],
   "source": [
    "anr_hal_lyon2 = pd.DataFrame(anr_hal_lyon2_liste)\n",
    "anr_hal_lyon2 = anr_hal_lyon2.sort_values(\"publicationDateY_i\", ascending = False)\n",
    "anr_hal_lyon2.shape"
   ]
  },
  {
   "cell_type": "code",
   "execution_count": 96,
   "id": "7e538a33",
   "metadata": {},
   "outputs": [],
   "source": [
    "##### Au 4 février 2023 il y a 2728 documents issus de projets ANR de l'Université Lyon 2 déposés dans HAL"
   ]
  },
  {
   "cell_type": "code",
   "execution_count": 7,
   "id": "700ae0d2",
   "metadata": {
    "scrolled": true
   },
   "outputs": [
    {
     "data": {
      "text/plain": [
       "openAccess_bool               0\n",
       "domainAllCode_s               4\n",
       "domain_s                      4\n",
       "primaryDomain_s               0\n",
       "title_s                       0\n",
       "journalTitle_s             1892\n",
       "journalPublisher_s         1927\n",
       "journalIssn_s              1989\n",
       "anrProjectId_i                0\n",
       "anrProjectTitle_s             6\n",
       "anrProjectAcronym_s           0\n",
       "anrProjectCallTitle_s      1505\n",
       "anrProjectCallAcronym_s       1\n",
       "anrProjectYearDate_s          1\n",
       "anrProjectTitleId_fs          0\n",
       "labStructId_i                 2\n",
       "labStructAcronym_s            3\n",
       "labStructName_s               2\n",
       "instStructId_i                0\n",
       "instStructAcronym_s           0\n",
       "instStructName_s              0\n",
       "language_s                    0\n",
       "docType_s                     0\n",
       "publicationDateY_i            0\n",
       "doiId_s                    2027\n",
       "dtype: int64"
      ]
     },
     "execution_count": 7,
     "metadata": {},
     "output_type": "execute_result"
    }
   ],
   "source": [
    "anr_hal_lyon2.isnull().sum()"
   ]
  },
  {
   "cell_type": "markdown",
   "id": "ee587c21",
   "metadata": {},
   "source": [
    "**Je retire les publications sans identifiants labo `labStructId_i`**"
   ]
  },
  {
   "cell_type": "code",
   "execution_count": 8,
   "id": "84289c7b",
   "metadata": {},
   "outputs": [
    {
     "data": {
      "text/plain": [
       "(2726, 25)"
      ]
     },
     "execution_count": 8,
     "metadata": {},
     "output_type": "execute_result"
    }
   ],
   "source": [
    "anr_hal_lyon2_labo = anr_hal_lyon2.dropna(subset='labStructId_i')\n",
    "anr_hal_lyon2_labo.shape"
   ]
  },
  {
   "cell_type": "code",
   "execution_count": 9,
   "id": "b8edef48",
   "metadata": {
    "scrolled": false
   },
   "outputs": [
    {
     "data": {
      "text/html": [
       "<div>\n",
       "<style scoped>\n",
       "    .dataframe tbody tr th:only-of-type {\n",
       "        vertical-align: middle;\n",
       "    }\n",
       "\n",
       "    .dataframe tbody tr th {\n",
       "        vertical-align: top;\n",
       "    }\n",
       "\n",
       "    .dataframe thead th {\n",
       "        text-align: right;\n",
       "    }\n",
       "</style>\n",
       "<table border=\"1\" class=\"dataframe\">\n",
       "  <thead>\n",
       "    <tr style=\"text-align: right;\">\n",
       "      <th></th>\n",
       "      <th>openAccess_bool</th>\n",
       "      <th>domainAllCode_s</th>\n",
       "      <th>domain_s</th>\n",
       "      <th>primaryDomain_s</th>\n",
       "      <th>title_s</th>\n",
       "      <th>journalTitle_s</th>\n",
       "      <th>journalPublisher_s</th>\n",
       "      <th>journalIssn_s</th>\n",
       "      <th>anrProjectId_i</th>\n",
       "      <th>anrProjectTitle_s</th>\n",
       "      <th>anrProjectAcronym_s</th>\n",
       "      <th>anrProjectCallTitle_s</th>\n",
       "      <th>anrProjectCallAcronym_s</th>\n",
       "      <th>anrProjectYearDate_s</th>\n",
       "      <th>anrProjectTitleId_fs</th>\n",
       "      <th>labStructId_i</th>\n",
       "      <th>labStructAcronym_s</th>\n",
       "      <th>labStructName_s</th>\n",
       "      <th>instStructId_i</th>\n",
       "      <th>instStructAcronym_s</th>\n",
       "      <th>instStructName_s</th>\n",
       "      <th>language_s</th>\n",
       "      <th>docType_s</th>\n",
       "      <th>publicationDateY_i</th>\n",
       "      <th>doiId_s</th>\n",
       "    </tr>\n",
       "  </thead>\n",
       "  <tbody>\n",
       "    <tr>\n",
       "      <th>2001</th>\n",
       "      <td>False</td>\n",
       "      <td>[shs.langue]</td>\n",
       "      <td>[0.shs, 1.shs.langue]</td>\n",
       "      <td>shs.langue</td>\n",
       "      <td>[Loïc Lantoine, chanteur pas engagé]</td>\n",
       "      <td>NaN</td>\n",
       "      <td>NaN</td>\n",
       "      <td>NaN</td>\n",
       "      <td>[49753]</td>\n",
       "      <td>[Advanced Studies on Language Complexity]</td>\n",
       "      <td>[ASLAN]</td>\n",
       "      <td>NaN</td>\n",
       "      <td>[LABX]</td>\n",
       "      <td>[2010]</td>\n",
       "      <td>[Advanced Studies on Language Complexity_Facet...</td>\n",
       "      <td>[51028]</td>\n",
       "      <td>[ICAR]</td>\n",
       "      <td>[Interactions, Corpus, Apprentissages, Représe...</td>\n",
       "      <td>[6818, 33804, 300042, 303652, 441569]</td>\n",
       "      <td>[ENS Lyon, UL2, ENS LSH, CNRS]</td>\n",
       "      <td>[École normale supérieure - Lyon, Université L...</td>\n",
       "      <td>[fr]</td>\n",
       "      <td>COUV</td>\n",
       "      <td>2023</td>\n",
       "      <td>NaN</td>\n",
       "    </tr>\n",
       "    <tr>\n",
       "      <th>699</th>\n",
       "      <td>True</td>\n",
       "      <td>[shs]</td>\n",
       "      <td>[0.shs]</td>\n",
       "      <td>shs</td>\n",
       "      <td>[The Hidden Energies of Work Digitisation: A V...</td>\n",
       "      <td>NaN</td>\n",
       "      <td>NaN</td>\n",
       "      <td>NaN</td>\n",
       "      <td>[43284]</td>\n",
       "      <td>[Durabilités et spatialités des pratiques de m...</td>\n",
       "      <td>[COWORKWORLDS]</td>\n",
       "      <td>NaN</td>\n",
       "      <td>[AAPG2017]</td>\n",
       "      <td>[2017]</td>\n",
       "      <td>[Durabilités et spatialités des pratiques de m...</td>\n",
       "      <td>[447425, 1043180]</td>\n",
       "      <td>[LAET, PACTE]</td>\n",
       "      <td>[Laboratoire Aménagement Économie Transports, ...</td>\n",
       "      <td>[33804, 300365, 441569, 441569, 1043359]</td>\n",
       "      <td>[UL2, ENTPE, CNRS, CNRS, IEPG]</td>\n",
       "      <td>[Université Lumière - Lyon 2, École Nationale ...</td>\n",
       "      <td>[en]</td>\n",
       "      <td>COUV</td>\n",
       "      <td>2023</td>\n",
       "      <td>10.1007/978-3-031-16708-9_7</td>\n",
       "    </tr>\n",
       "  </tbody>\n",
       "</table>\n",
       "</div>"
      ],
      "text/plain": [
       "      openAccess_bool domainAllCode_s               domain_s primaryDomain_s  \\\n",
       "2001            False    [shs.langue]  [0.shs, 1.shs.langue]      shs.langue   \n",
       "699              True           [shs]                [0.shs]             shs   \n",
       "\n",
       "                                                title_s journalTitle_s  \\\n",
       "2001               [Loïc Lantoine, chanteur pas engagé]            NaN   \n",
       "699   [The Hidden Energies of Work Digitisation: A V...            NaN   \n",
       "\n",
       "     journalPublisher_s journalIssn_s anrProjectId_i  \\\n",
       "2001                NaN           NaN        [49753]   \n",
       "699                 NaN           NaN        [43284]   \n",
       "\n",
       "                                      anrProjectTitle_s anrProjectAcronym_s  \\\n",
       "2001          [Advanced Studies on Language Complexity]             [ASLAN]   \n",
       "699   [Durabilités et spatialités des pratiques de m...      [COWORKWORLDS]   \n",
       "\n",
       "     anrProjectCallTitle_s anrProjectCallAcronym_s anrProjectYearDate_s  \\\n",
       "2001                   NaN                  [LABX]               [2010]   \n",
       "699                    NaN              [AAPG2017]               [2017]   \n",
       "\n",
       "                                   anrProjectTitleId_fs      labStructId_i  \\\n",
       "2001  [Advanced Studies on Language Complexity_Facet...            [51028]   \n",
       "699   [Durabilités et spatialités des pratiques de m...  [447425, 1043180]   \n",
       "\n",
       "     labStructAcronym_s                                    labStructName_s  \\\n",
       "2001             [ICAR]  [Interactions, Corpus, Apprentissages, Représe...   \n",
       "699       [LAET, PACTE]  [Laboratoire Aménagement Économie Transports, ...   \n",
       "\n",
       "                                instStructId_i  \\\n",
       "2001     [6818, 33804, 300042, 303652, 441569]   \n",
       "699   [33804, 300365, 441569, 441569, 1043359]   \n",
       "\n",
       "                 instStructAcronym_s  \\\n",
       "2001  [ENS Lyon, UL2, ENS LSH, CNRS]   \n",
       "699   [UL2, ENTPE, CNRS, CNRS, IEPG]   \n",
       "\n",
       "                                       instStructName_s language_s docType_s  \\\n",
       "2001  [École normale supérieure - Lyon, Université L...       [fr]      COUV   \n",
       "699   [Université Lumière - Lyon 2, École Nationale ...       [en]      COUV   \n",
       "\n",
       "      publicationDateY_i                      doiId_s  \n",
       "2001                2023                          NaN  \n",
       "699                 2023  10.1007/978-3-031-16708-9_7  "
      ]
     },
     "execution_count": 9,
     "metadata": {},
     "output_type": "execute_result"
    }
   ],
   "source": [
    "anr_hal_lyon2_labo.head(2)"
   ]
  },
  {
   "cell_type": "markdown",
   "id": "69e126e9",
   "metadata": {},
   "source": [
    "**Je selectionne les variables dont les valeurs n'ont pas de crochets, parmi les variables d'intérêt**"
   ]
  },
  {
   "cell_type": "code",
   "execution_count": 10,
   "id": "40d7a00c",
   "metadata": {},
   "outputs": [],
   "source": [
    "x = ['openAccess_bool', 'primaryDomain_s', 'journalTitle_s', 'journalPublisher_s', 'journalIssn_s', 'docType_s', \\\n",
    "     'publicationDateY_i', 'doiId_s']"
   ]
  },
  {
   "cell_type": "code",
   "execution_count": 11,
   "id": "1bfbf142",
   "metadata": {},
   "outputs": [],
   "source": [
    "anr_hal_lyon2_labo_2 = anr_hal_lyon2_labo[x]"
   ]
  },
  {
   "cell_type": "markdown",
   "id": "f3f27baf",
   "metadata": {},
   "source": [
    "**Je retire les crochets des valeurs des variables d'intérêt**"
   ]
  },
  {
   "cell_type": "code",
   "execution_count": 12,
   "id": "a3b85028",
   "metadata": {},
   "outputs": [],
   "source": [
    "### Variables de type charactère\n",
    "dom_all = anr_hal_lyon2_labo[\"domainAllCode_s\"].apply(lambda x: \",\".join(x) if isinstance(x, list) else x)\n",
    "dom = anr_hal_lyon2_labo[\"domain_s\"].apply(lambda x: \",\".join(x) if isinstance(x, list) else x)\n",
    "titre = anr_hal_lyon2_labo[\"title_s\"].apply(lambda x: \",\".join(x) if isinstance(x, list) else x)\n",
    "anr_titre = anr_hal_lyon2_labo[\"anrProjectTitle_s\"].apply(lambda x: \",\".join(x) if isinstance(x, list) else x)\n",
    "anr_sigle = anr_hal_lyon2_labo[\"anrProjectAcronym_s\"].apply(lambda x: \",\".join(x) if isinstance(x, list) else x)\n",
    "labo_sigle = anr_hal_lyon2_labo[\"labStructAcronym_s\"].apply(lambda x: \",\".join(x) if isinstance(x, list) else x)\n",
    "labo_nom = anr_hal_lyon2_labo[\"labStructName_s\"].apply(lambda x: \",\".join(x) if isinstance(x, list) else x)\n",
    "institution_sigle = anr_hal_lyon2_labo[\"instStructAcronym_s\"].apply(lambda x: \",\".join(x) if isinstance(x, list) else x)\n",
    "institution_nom = anr_hal_lyon2_labo[\"instStructName_s\"].apply(lambda x: \",\".join(x) if isinstance(x, list) else x)\n",
    "doc_langue = anr_hal_lyon2_labo[\"language_s\"].apply(lambda x: \",\".join(x) if isinstance(x, list) else x)\n",
    "\n",
    "### Variables de type objet\n",
    "anr_id = anr_hal_lyon2_labo[\"anrProjectId_i\"].apply(lambda x: \",\".join(map(str,x)) if isinstance(x, list) else x)\n",
    "labo_id = anr_hal_lyon2_labo[\"labStructId_i\"].apply(lambda x: \",\".join(map(str,x)) if isinstance(x, list) else x)\n",
    "institution_id = anr_hal_lyon2_labo[\"instStructId_i\"].apply(lambda x: \",\".join(map(str,x)) if isinstance(x, list) else x)"
   ]
  },
  {
   "cell_type": "code",
   "execution_count": 13,
   "id": "01a7183a",
   "metadata": {
    "scrolled": true
   },
   "outputs": [],
   "source": [
    "### Dataframe\n",
    "dom_all_df = pd.DataFrame(dom_all)\n",
    "dom_df = pd.DataFrame(dom)\n",
    "titre_df = pd.DataFrame(titre)\n",
    "anr_titre_df = pd.DataFrame(anr_titre)\n",
    "anr_sigle_df = pd.DataFrame(anr_sigle)\n",
    "labo_sigle_df = pd.DataFrame(labo_sigle)\n",
    "labo_nom_df = pd.DataFrame(labo_nom)\n",
    "institution_sigle_df = pd.DataFrame(institution_sigle)\n",
    "institution_nom_df = pd.DataFrame(institution_nom)\n",
    "doc_langue_df = pd.DataFrame(doc_langue)\n",
    "anr_id_df = pd.DataFrame(anr_id)\n",
    "labo_id_df = pd.DataFrame(labo_id)\n",
    "institution_id_df = pd.DataFrame(institution_id)"
   ]
  },
  {
   "cell_type": "code",
   "execution_count": 14,
   "id": "2d44e4b2",
   "metadata": {},
   "outputs": [
    {
     "data": {
      "text/html": [
       "<div>\n",
       "<style scoped>\n",
       "    .dataframe tbody tr th:only-of-type {\n",
       "        vertical-align: middle;\n",
       "    }\n",
       "\n",
       "    .dataframe tbody tr th {\n",
       "        vertical-align: top;\n",
       "    }\n",
       "\n",
       "    .dataframe thead th {\n",
       "        text-align: right;\n",
       "    }\n",
       "</style>\n",
       "<table border=\"1\" class=\"dataframe\">\n",
       "  <thead>\n",
       "    <tr style=\"text-align: right;\">\n",
       "      <th></th>\n",
       "      <th>openAccess_bool</th>\n",
       "      <th>primaryDomain_s</th>\n",
       "      <th>journalTitle_s</th>\n",
       "      <th>journalPublisher_s</th>\n",
       "      <th>journalIssn_s</th>\n",
       "      <th>docType_s</th>\n",
       "      <th>publicationDateY_i</th>\n",
       "      <th>doiId_s</th>\n",
       "      <th>domainAllCode_s</th>\n",
       "      <th>domain_s</th>\n",
       "      <th>title_s</th>\n",
       "      <th>anrProjectTitle_s</th>\n",
       "      <th>anrProjectAcronym_s</th>\n",
       "      <th>labStructAcronym_s</th>\n",
       "      <th>labStructName_s</th>\n",
       "      <th>instStructAcronym_s</th>\n",
       "      <th>instStructName_s</th>\n",
       "      <th>language_s</th>\n",
       "      <th>anrProjectId_i</th>\n",
       "      <th>labStructId_i</th>\n",
       "      <th>instStructId_i</th>\n",
       "    </tr>\n",
       "  </thead>\n",
       "  <tbody>\n",
       "    <tr>\n",
       "      <th>2001</th>\n",
       "      <td>False</td>\n",
       "      <td>shs.langue</td>\n",
       "      <td>NaN</td>\n",
       "      <td>NaN</td>\n",
       "      <td>NaN</td>\n",
       "      <td>COUV</td>\n",
       "      <td>2023</td>\n",
       "      <td>NaN</td>\n",
       "      <td>shs.langue</td>\n",
       "      <td>0.shs,1.shs.langue</td>\n",
       "      <td>Loïc Lantoine, chanteur pas engagé</td>\n",
       "      <td>Advanced Studies on Language Complexity</td>\n",
       "      <td>ASLAN</td>\n",
       "      <td>ICAR</td>\n",
       "      <td>Interactions, Corpus, Apprentissages, Représen...</td>\n",
       "      <td>ENS Lyon,UL2,ENS LSH,CNRS</td>\n",
       "      <td>École normale supérieure - Lyon,Université Lum...</td>\n",
       "      <td>fr</td>\n",
       "      <td>49753</td>\n",
       "      <td>51028</td>\n",
       "      <td>6818,33804,300042,303652,441569</td>\n",
       "    </tr>\n",
       "    <tr>\n",
       "      <th>699</th>\n",
       "      <td>True</td>\n",
       "      <td>shs</td>\n",
       "      <td>NaN</td>\n",
       "      <td>NaN</td>\n",
       "      <td>NaN</td>\n",
       "      <td>COUV</td>\n",
       "      <td>2023</td>\n",
       "      <td>10.1007/978-3-031-16708-9_7</td>\n",
       "      <td>shs</td>\n",
       "      <td>0.shs</td>\n",
       "      <td>The Hidden Energies of Work Digitisation: A Vi...</td>\n",
       "      <td>Durabilités et spatialités des pratiques de mo...</td>\n",
       "      <td>COWORKWORLDS</td>\n",
       "      <td>LAET,PACTE</td>\n",
       "      <td>Laboratoire Aménagement Économie Transports,Pa...</td>\n",
       "      <td>UL2,ENTPE,CNRS,CNRS,IEPG</td>\n",
       "      <td>Université Lumière - Lyon 2,École Nationale de...</td>\n",
       "      <td>en</td>\n",
       "      <td>43284</td>\n",
       "      <td>447425,1043180</td>\n",
       "      <td>33804,300365,441569,441569,1043359</td>\n",
       "    </tr>\n",
       "  </tbody>\n",
       "</table>\n",
       "</div>"
      ],
      "text/plain": [
       "      openAccess_bool primaryDomain_s journalTitle_s journalPublisher_s  \\\n",
       "2001            False      shs.langue            NaN                NaN   \n",
       "699              True             shs            NaN                NaN   \n",
       "\n",
       "     journalIssn_s docType_s  publicationDateY_i                      doiId_s  \\\n",
       "2001           NaN      COUV                2023                          NaN   \n",
       "699            NaN      COUV                2023  10.1007/978-3-031-16708-9_7   \n",
       "\n",
       "     domainAllCode_s            domain_s  \\\n",
       "2001      shs.langue  0.shs,1.shs.langue   \n",
       "699              shs               0.shs   \n",
       "\n",
       "                                                title_s  \\\n",
       "2001                 Loïc Lantoine, chanteur pas engagé   \n",
       "699   The Hidden Energies of Work Digitisation: A Vi...   \n",
       "\n",
       "                                      anrProjectTitle_s anrProjectAcronym_s  \\\n",
       "2001            Advanced Studies on Language Complexity               ASLAN   \n",
       "699   Durabilités et spatialités des pratiques de mo...        COWORKWORLDS   \n",
       "\n",
       "     labStructAcronym_s                                    labStructName_s  \\\n",
       "2001               ICAR  Interactions, Corpus, Apprentissages, Représen...   \n",
       "699          LAET,PACTE  Laboratoire Aménagement Économie Transports,Pa...   \n",
       "\n",
       "            instStructAcronym_s  \\\n",
       "2001  ENS Lyon,UL2,ENS LSH,CNRS   \n",
       "699    UL2,ENTPE,CNRS,CNRS,IEPG   \n",
       "\n",
       "                                       instStructName_s language_s  \\\n",
       "2001  École normale supérieure - Lyon,Université Lum...         fr   \n",
       "699   Université Lumière - Lyon 2,École Nationale de...         en   \n",
       "\n",
       "     anrProjectId_i   labStructId_i                      instStructId_i  \n",
       "2001          49753           51028     6818,33804,300042,303652,441569  \n",
       "699           43284  447425,1043180  33804,300365,441569,441569,1043359  "
      ]
     },
     "execution_count": 14,
     "metadata": {},
     "output_type": "execute_result"
    }
   ],
   "source": [
    "### Concaténation\n",
    "frames = [anr_hal_lyon2_labo_2, dom_all_df, dom_df, titre_df,\n",
    "                                   anr_titre_df,anr_sigle_df,labo_sigle_df,labo_nom_df,\n",
    "                                   institution_sigle_df,institution_nom_df,doc_langue_df,\n",
    "                                   anr_id_df,labo_id_df,institution_id_df]\n",
    "anr_hal_lyon2_labo_full = pd.concat(frames, axis=1)\n",
    "anr_hal_lyon2_labo_full.head(2)"
   ]
  },
  {
   "cell_type": "code",
   "execution_count": 15,
   "id": "db04e748",
   "metadata": {},
   "outputs": [
    {
     "data": {
      "text/plain": [
       "(2726, 21)"
      ]
     },
     "execution_count": 15,
     "metadata": {},
     "output_type": "execute_result"
    }
   ],
   "source": [
    "anr_hal_lyon2_labo_full.shape"
   ]
  },
  {
   "cell_type": "markdown",
   "id": "28c3fade",
   "metadata": {},
   "source": [
    "## <span style=\"color:black\" > 2 Taux d'ouverture global des publications des projets ANR </span>"
   ]
  },
  {
   "cell_type": "code",
   "execution_count": 16,
   "id": "44275892",
   "metadata": {},
   "outputs": [
    {
     "data": {
      "text/plain": [
       "2001    False\n",
       "699      True\n",
       "322      True\n",
       "1878    False\n",
       "954      True\n",
       "        ...  \n",
       "1413     True\n",
       "2657     True\n",
       "66      False\n",
       "632      True\n",
       "2183    False\n",
       "Name: openAccess_bool, Length: 2726, dtype: bool"
      ]
     },
     "execution_count": 16,
     "metadata": {},
     "output_type": "execute_result"
    }
   ],
   "source": [
    "s = anr_hal_lyon2_labo_full.openAccess_bool\n",
    "s"
   ]
  },
  {
   "cell_type": "code",
   "execution_count": 17,
   "id": "30b52f54",
   "metadata": {},
   "outputs": [
    {
     "data": {
      "text/plain": [
       "False    1631\n",
       "True     1095\n",
       "Name: openAccess_bool, dtype: int64"
      ]
     },
     "execution_count": 17,
     "metadata": {},
     "output_type": "execute_result"
    }
   ],
   "source": [
    "counts = s.value_counts()\n",
    "counts"
   ]
  },
  {
   "cell_type": "code",
   "execution_count": 18,
   "id": "4012d2dc",
   "metadata": {},
   "outputs": [
    {
     "data": {
      "text/plain": [
       "False    0.598313\n",
       "True     0.401687\n",
       "Name: openAccess_bool, dtype: float64"
      ]
     },
     "execution_count": 18,
     "metadata": {},
     "output_type": "execute_result"
    }
   ],
   "source": [
    "percent = s.value_counts(normalize=True)\n",
    "percent"
   ]
  },
  {
   "cell_type": "code",
   "execution_count": 20,
   "id": "a1c4c734",
   "metadata": {},
   "outputs": [
    {
     "data": {
      "text/plain": [
       "False    59.8%\n",
       "True     40.2%\n",
       "Name: openAccess_bool, dtype: object"
      ]
     },
     "execution_count": 20,
     "metadata": {},
     "output_type": "execute_result"
    }
   ],
   "source": [
    "percent100 = s.value_counts(normalize=True).mul(100).round(1).astype(str) + '%'\n",
    "percent100"
   ]
  },
  {
   "cell_type": "code",
   "execution_count": 21,
   "id": "1a20b128",
   "metadata": {
    "scrolled": true
   },
   "outputs": [
    {
     "data": {
      "text/html": [
       "<div>\n",
       "<style scoped>\n",
       "    .dataframe tbody tr th:only-of-type {\n",
       "        vertical-align: middle;\n",
       "    }\n",
       "\n",
       "    .dataframe tbody tr th {\n",
       "        vertical-align: top;\n",
       "    }\n",
       "\n",
       "    .dataframe thead th {\n",
       "        text-align: right;\n",
       "    }\n",
       "</style>\n",
       "<table border=\"1\" class=\"dataframe\">\n",
       "  <thead>\n",
       "    <tr style=\"text-align: right;\">\n",
       "      <th></th>\n",
       "      <th>Total</th>\n",
       "      <th>Fréquence</th>\n",
       "      <th>Pourcentage</th>\n",
       "    </tr>\n",
       "  </thead>\n",
       "  <tbody>\n",
       "    <tr>\n",
       "      <th>False</th>\n",
       "      <td>1631</td>\n",
       "      <td>0.598313</td>\n",
       "      <td>59.8%</td>\n",
       "    </tr>\n",
       "    <tr>\n",
       "      <th>True</th>\n",
       "      <td>1095</td>\n",
       "      <td>0.401687</td>\n",
       "      <td>40.2%</td>\n",
       "    </tr>\n",
       "  </tbody>\n",
       "</table>\n",
       "</div>"
      ],
      "text/plain": [
       "       Total  Fréquence Pourcentage\n",
       "False   1631   0.598313       59.8%\n",
       "True    1095   0.401687       40.2%"
      ]
     },
     "execution_count": 21,
     "metadata": {},
     "output_type": "execute_result"
    }
   ],
   "source": [
    "tableau = pd.DataFrame({'Total': counts, 'Fréquence': percent, 'Pourcentage': percent100})\n",
    "tableau"
   ]
  },
  {
   "cell_type": "code",
   "execution_count": 54,
   "id": "a8f98dd1",
   "metadata": {
    "scrolled": true
   },
   "outputs": [
    {
     "data": {
      "image/png": "[encoded data removed]",
      "text/plain": [
       "<Figure size 600x600 with 1 Axes>"
      ]
     },
     "metadata": {},
     "output_type": "display_data"
    }
   ],
   "source": [
    "plot1 = tableau['Total'].plot.pie(\n",
    "labels=[\"Fermé\", \"Ouvert\"],\n",
    "    autopct=\"%.1f%%\",\n",
    "     fontsize=10,\n",
    "    figsize=(6, 6),\n",
    "    title=\"Taux d'ouverture global des publications HAL-ANR de Lyon 2 (Février 2023)\", ylabel=''\n",
    "  );"
   ]
  },
  {
   "cell_type": "markdown",
   "id": "e9bcb14d",
   "metadata": {},
   "source": [
    "## <span style=\"color:black\" > 3 Taux d'ouverture des publications des projets ANR par laboratoires </span>"
   ]
  },
  {
   "cell_type": "code",
   "execution_count": 23,
   "id": "719ff410",
   "metadata": {},
   "outputs": [],
   "source": [
    "# Les laboratoires\n",
    "Labo = ['619','444290','3131','1062481','146317','136794','88676','102810','191786','740','528282','145304','214341','70904',\n",
    "'2562','183072','145345','102550','49955','670','567','51028','1063691','102816','498032','447425','1043116','89915',\n",
    "'102818','2003','145356','145357']"
   ]
  },
  {
   "cell_type": "code",
   "execution_count": 24,
   "id": "5087c28e",
   "metadata": {},
   "outputs": [],
   "source": [
    "data_per_labo = []\n",
    "for i in Labo:\n",
    "    table = anr_hal_lyon2_labo_full[anr_hal_lyon2_labo_full[\"labStructId_i\"].str.contains(i)].assign(id = i)  \n",
    "    data_per_labo.append(table)\n",
    "full_data = pd.concat(data_per_labo)"
   ]
  },
  {
   "cell_type": "code",
   "execution_count": 25,
   "id": "61cc3b33",
   "metadata": {},
   "outputs": [
    {
     "data": {
      "text/plain": [
       "(2378, 22)"
      ]
     },
     "execution_count": 25,
     "metadata": {},
     "output_type": "execute_result"
    }
   ],
   "source": [
    "full_data.shape"
   ]
  },
  {
   "cell_type": "code",
   "execution_count": 26,
   "id": "a4f56b0c",
   "metadata": {},
   "outputs": [
    {
     "data": {
      "text/plain": [
       "(109, 22)"
      ]
     },
     "execution_count": 26,
     "metadata": {},
     "output_type": "execute_result"
    }
   ],
   "source": [
    "#### Vérification ...\n",
    "lab = ['145357']\n",
    "filtre_lab = full_data[full_data['id'].isin(lab)]\n",
    "filtre_lab.shape"
   ]
  },
  {
   "cell_type": "code",
   "execution_count": 27,
   "id": "23f71a8b",
   "metadata": {},
   "outputs": [
    {
     "data": {
      "text/plain": [
       "False    2617\n",
       "True      109\n",
       "Name: labStructId_i, dtype: int64"
      ]
     },
     "execution_count": 27,
     "metadata": {},
     "output_type": "execute_result"
    }
   ],
   "source": [
    "#### ... identique à: (# Il y a 109 documents pour le laboratoire Triangle (labStructId_i = \"145357\"))\n",
    "Triangle = anr_hal_lyon2_labo_full[\"labStructId_i\"].str.contains('145357')\n",
    "Triangle.value_counts()"
   ]
  },
  {
   "cell_type": "code",
   "execution_count": 28,
   "id": "07d2ceb6",
   "metadata": {
    "scrolled": true
   },
   "outputs": [
    {
     "data": {
      "text/html": [
       "<div>\n",
       "<style scoped>\n",
       "    .dataframe tbody tr th:only-of-type {\n",
       "        vertical-align: middle;\n",
       "    }\n",
       "\n",
       "    .dataframe tbody tr th {\n",
       "        vertical-align: top;\n",
       "    }\n",
       "\n",
       "    .dataframe thead th {\n",
       "        text-align: right;\n",
       "    }\n",
       "</style>\n",
       "<table border=\"1\" class=\"dataframe\">\n",
       "  <thead>\n",
       "    <tr style=\"text-align: right;\">\n",
       "      <th></th>\n",
       "      <th>openAccess_bool</th>\n",
       "      <th>primaryDomain_s</th>\n",
       "      <th>journalTitle_s</th>\n",
       "      <th>journalPublisher_s</th>\n",
       "      <th>journalIssn_s</th>\n",
       "      <th>docType_s</th>\n",
       "      <th>publicationDateY_i</th>\n",
       "      <th>doiId_s</th>\n",
       "      <th>domainAllCode_s</th>\n",
       "      <th>domain_s</th>\n",
       "      <th>title_s</th>\n",
       "      <th>anrProjectTitle_s</th>\n",
       "      <th>anrProjectAcronym_s</th>\n",
       "      <th>labStructAcronym_s</th>\n",
       "      <th>labStructName_s</th>\n",
       "      <th>instStructAcronym_s</th>\n",
       "      <th>instStructName_s</th>\n",
       "      <th>language_s</th>\n",
       "      <th>anrProjectId_i</th>\n",
       "      <th>labStructId_i</th>\n",
       "      <th>instStructId_i</th>\n",
       "      <th>id</th>\n",
       "    </tr>\n",
       "  </thead>\n",
       "  <tbody>\n",
       "    <tr>\n",
       "      <th>1021</th>\n",
       "      <td>False</td>\n",
       "      <td>shs.archeo</td>\n",
       "      <td>Proceedings of the Seminar for Arabian Studies</td>\n",
       "      <td>Archaeopress</td>\n",
       "      <td>0308-8421</td>\n",
       "      <td>PROCEEDINGS</td>\n",
       "      <td>2022</td>\n",
       "      <td>NaN</td>\n",
       "      <td>shs.archeo</td>\n",
       "      <td>0.shs,1.shs.archeo</td>\n",
       "      <td>The Camel Site reliefs — an investigation of t...</td>\n",
       "      <td>Religions and Societies in the Mediterranean W...</td>\n",
       "      <td>RESMED</td>\n",
       "      <td>OM,OM,Archéorient</td>\n",
       "      <td>ORIENT ET MÉDITERRANÉE : Textes, Archéologie, ...</td>\n",
       "      <td>UP1,EPHE,CdF (institution),CNRS,UP1,EPHE,CdF (...</td>\n",
       "      <td>Max-Planck-Gesellschaft,Université Paris 1 Pan...</td>\n",
       "      <td>en</td>\n",
       "      <td>24812</td>\n",
       "      <td>542221,542221,1084285,234571,619</td>\n",
       "      <td>5247,7550,110691,300026,441569,7550,110691,300...</td>\n",
       "      <td>619</td>\n",
       "    </tr>\n",
       "    <tr>\n",
       "      <th>1762</th>\n",
       "      <td>False</td>\n",
       "      <td>shs.archeo</td>\n",
       "      <td>Journal of Island and Coastal Archaeology</td>\n",
       "      <td>Taylor &amp; Francis</td>\n",
       "      <td>1556-4894</td>\n",
       "      <td>ART</td>\n",
       "      <td>2022</td>\n",
       "      <td>10.1080/15564894.2021.2015017</td>\n",
       "      <td>shs.archeo</td>\n",
       "      <td>0.shs,1.shs.archeo</td>\n",
       "      <td>The latest Neolithic conquest of &amp;quot;new ter...</td>\n",
       "      <td>Analyse de la durabilité et des réorganisation...</td>\n",
       "      <td>NeoArabia</td>\n",
       "      <td>ArScAn,CReAAH,AASPE,Archéorient</td>\n",
       "      <td>Archéologies et Sciences de l'Antiquité,Centre...</td>\n",
       "      <td>UP1,UP8,UPN,MCC,Inrap,CNRS,UM,UR1,UR2,CNRS,MC,...</td>\n",
       "      <td>Université Paris 1 Panthéon-Sorbonne,Universit...</td>\n",
       "      <td>en</td>\n",
       "      <td>43981</td>\n",
       "      <td>1003,1089201,118105,619</td>\n",
       "      <td>7550,11141,116205,300125,301475,441569,7566,10...</td>\n",
       "      <td>619</td>\n",
       "    </tr>\n",
       "  </tbody>\n",
       "</table>\n",
       "</div>"
      ],
      "text/plain": [
       "      openAccess_bool primaryDomain_s  \\\n",
       "1021            False      shs.archeo   \n",
       "1762            False      shs.archeo   \n",
       "\n",
       "                                      journalTitle_s journalPublisher_s  \\\n",
       "1021  Proceedings of the Seminar for Arabian Studies       Archaeopress   \n",
       "1762       Journal of Island and Coastal Archaeology   Taylor & Francis   \n",
       "\n",
       "     journalIssn_s    docType_s  publicationDateY_i  \\\n",
       "1021     0308-8421  PROCEEDINGS                2022   \n",
       "1762     1556-4894          ART                2022   \n",
       "\n",
       "                            doiId_s domainAllCode_s            domain_s  \\\n",
       "1021                            NaN      shs.archeo  0.shs,1.shs.archeo   \n",
       "1762  10.1080/15564894.2021.2015017      shs.archeo  0.shs,1.shs.archeo   \n",
       "\n",
       "                                                title_s  \\\n",
       "1021  The Camel Site reliefs — an investigation of t...   \n",
       "1762  The latest Neolithic conquest of &quot;new ter...   \n",
       "\n",
       "                                      anrProjectTitle_s anrProjectAcronym_s  \\\n",
       "1021  Religions and Societies in the Mediterranean W...              RESMED   \n",
       "1762  Analyse de la durabilité et des réorganisation...           NeoArabia   \n",
       "\n",
       "                   labStructAcronym_s  \\\n",
       "1021                OM,OM,Archéorient   \n",
       "1762  ArScAn,CReAAH,AASPE,Archéorient   \n",
       "\n",
       "                                        labStructName_s  \\\n",
       "1021  ORIENT ET MÉDITERRANÉE : Textes, Archéologie, ...   \n",
       "1762  Archéologies et Sciences de l'Antiquité,Centre...   \n",
       "\n",
       "                                    instStructAcronym_s  \\\n",
       "1021  UP1,EPHE,CdF (institution),CNRS,UP1,EPHE,CdF (...   \n",
       "1762  UP1,UP8,UPN,MCC,Inrap,CNRS,UM,UR1,UR2,CNRS,MC,...   \n",
       "\n",
       "                                       instStructName_s language_s  \\\n",
       "1021  Max-Planck-Gesellschaft,Université Paris 1 Pan...         en   \n",
       "1762  Université Paris 1 Panthéon-Sorbonne,Universit...         en   \n",
       "\n",
       "     anrProjectId_i                     labStructId_i  \\\n",
       "1021          24812  542221,542221,1084285,234571,619   \n",
       "1762          43981           1003,1089201,118105,619   \n",
       "\n",
       "                                         instStructId_i   id  \n",
       "1021  5247,7550,110691,300026,441569,7550,110691,300...  619  \n",
       "1762  7550,11141,116205,300125,301475,441569,7566,10...  619  "
      ]
     },
     "execution_count": 28,
     "metadata": {},
     "output_type": "execute_result"
    }
   ],
   "source": [
    "full_data.head(2)"
   ]
  },
  {
   "cell_type": "code",
   "execution_count": 29,
   "id": "031aac22",
   "metadata": {},
   "outputs": [
    {
     "data": {
      "text/html": [
       "<div>\n",
       "<style scoped>\n",
       "    .dataframe tbody tr th:only-of-type {\n",
       "        vertical-align: middle;\n",
       "    }\n",
       "\n",
       "    .dataframe tbody tr th {\n",
       "        vertical-align: top;\n",
       "    }\n",
       "\n",
       "    .dataframe thead th {\n",
       "        text-align: right;\n",
       "    }\n",
       "</style>\n",
       "<table border=\"1\" class=\"dataframe\">\n",
       "  <thead>\n",
       "    <tr style=\"text-align: right;\">\n",
       "      <th></th>\n",
       "      <th>openAccess_bool</th>\n",
       "      <th>primaryDomain_s</th>\n",
       "      <th>journalTitle_s</th>\n",
       "      <th>journalPublisher_s</th>\n",
       "      <th>journalIssn_s</th>\n",
       "      <th>docType_s</th>\n",
       "      <th>publicationDateY_i</th>\n",
       "      <th>doiId_s</th>\n",
       "      <th>domainAllCode_s</th>\n",
       "      <th>domain_s</th>\n",
       "      <th>title_s</th>\n",
       "      <th>anrProjectTitle_s</th>\n",
       "      <th>anrProjectAcronym_s</th>\n",
       "      <th>labStructAcronym_s</th>\n",
       "      <th>labStructName_s</th>\n",
       "      <th>instStructAcronym_s</th>\n",
       "      <th>instStructName_s</th>\n",
       "      <th>language_s</th>\n",
       "      <th>anrProjectId_i</th>\n",
       "      <th>labStructId_i</th>\n",
       "      <th>instStructId_i</th>\n",
       "      <th>id</th>\n",
       "    </tr>\n",
       "  </thead>\n",
       "  <tbody>\n",
       "    <tr>\n",
       "      <th>282</th>\n",
       "      <td>False</td>\n",
       "      <td>sdu.envi</td>\n",
       "      <td>Review of Palaeobotany and Palynology</td>\n",
       "      <td>Elsevier</td>\n",
       "      <td>0034-6667</td>\n",
       "      <td>ART</td>\n",
       "      <td>2022</td>\n",
       "      <td>10.1016/j.revpalbo.2022.104713</td>\n",
       "      <td>sdu.envi,sde.mcg</td>\n",
       "      <td>0.sdu,1.sdu.envi,0.sde,1.sde.mcg</td>\n",
       "      <td>First pollen record from the Late Holocene for...</td>\n",
       "      <td>Labex OT-MED</td>\n",
       "      <td>OT-MED</td>\n",
       "      <td>UMR ISEM,UMR ISEM,LAMPEA,CEREGE,LEHNA,LGL-TPE,...</td>\n",
       "      <td>Institut des Sciences de l'Evolution de Montpe...</td>\n",
       "      <td>Cirad,EPHE,UM,CNRS,Cirad,EPHE,CNRS,AMU,CNRS,MC...</td>\n",
       "      <td>Centre de Coopération Internationale en Recher...</td>\n",
       "      <td>en</td>\n",
       "      <td>59223</td>\n",
       "      <td>29770,1100670,208163,1002357,215697,153787,670...</td>\n",
       "      <td>11574,110691,410122,431575,441569,11574,110691...</td>\n",
       "      <td>619</td>\n",
       "    </tr>\n",
       "    <tr>\n",
       "      <th>282</th>\n",
       "      <td>False</td>\n",
       "      <td>sdu.envi</td>\n",
       "      <td>Review of Palaeobotany and Palynology</td>\n",
       "      <td>Elsevier</td>\n",
       "      <td>0034-6667</td>\n",
       "      <td>ART</td>\n",
       "      <td>2022</td>\n",
       "      <td>10.1016/j.revpalbo.2022.104713</td>\n",
       "      <td>sdu.envi,sde.mcg</td>\n",
       "      <td>0.sdu,1.sdu.envi,0.sde,1.sde.mcg</td>\n",
       "      <td>First pollen record from the Late Holocene for...</td>\n",
       "      <td>Labex OT-MED</td>\n",
       "      <td>OT-MED</td>\n",
       "      <td>UMR ISEM,UMR ISEM,LAMPEA,CEREGE,LEHNA,LGL-TPE,...</td>\n",
       "      <td>Institut des Sciences de l'Evolution de Montpe...</td>\n",
       "      <td>Cirad,EPHE,UM,CNRS,Cirad,EPHE,CNRS,AMU,CNRS,MC...</td>\n",
       "      <td>Centre de Coopération Internationale en Recher...</td>\n",
       "      <td>en</td>\n",
       "      <td>59223</td>\n",
       "      <td>29770,1100670,208163,1002357,215697,153787,670...</td>\n",
       "      <td>11574,110691,410122,431575,441569,11574,110691...</td>\n",
       "      <td>670</td>\n",
       "    </tr>\n",
       "  </tbody>\n",
       "</table>\n",
       "</div>"
      ],
      "text/plain": [
       "     openAccess_bool primaryDomain_s                         journalTitle_s  \\\n",
       "282            False        sdu.envi  Review of Palaeobotany and Palynology   \n",
       "282            False        sdu.envi  Review of Palaeobotany and Palynology   \n",
       "\n",
       "    journalPublisher_s journalIssn_s docType_s  publicationDateY_i  \\\n",
       "282           Elsevier     0034-6667       ART                2022   \n",
       "282           Elsevier     0034-6667       ART                2022   \n",
       "\n",
       "                            doiId_s   domainAllCode_s  \\\n",
       "282  10.1016/j.revpalbo.2022.104713  sdu.envi,sde.mcg   \n",
       "282  10.1016/j.revpalbo.2022.104713  sdu.envi,sde.mcg   \n",
       "\n",
       "                             domain_s  \\\n",
       "282  0.sdu,1.sdu.envi,0.sde,1.sde.mcg   \n",
       "282  0.sdu,1.sdu.envi,0.sde,1.sde.mcg   \n",
       "\n",
       "                                               title_s anrProjectTitle_s  \\\n",
       "282  First pollen record from the Late Holocene for...      Labex OT-MED   \n",
       "282  First pollen record from the Late Holocene for...      Labex OT-MED   \n",
       "\n",
       "    anrProjectAcronym_s                                 labStructAcronym_s  \\\n",
       "282              OT-MED  UMR ISEM,UMR ISEM,LAMPEA,CEREGE,LEHNA,LGL-TPE,...   \n",
       "282              OT-MED  UMR ISEM,UMR ISEM,LAMPEA,CEREGE,LEHNA,LGL-TPE,...   \n",
       "\n",
       "                                       labStructName_s  \\\n",
       "282  Institut des Sciences de l'Evolution de Montpe...   \n",
       "282  Institut des Sciences de l'Evolution de Montpe...   \n",
       "\n",
       "                                   instStructAcronym_s  \\\n",
       "282  Cirad,EPHE,UM,CNRS,Cirad,EPHE,CNRS,AMU,CNRS,MC...   \n",
       "282  Cirad,EPHE,UM,CNRS,Cirad,EPHE,CNRS,AMU,CNRS,MC...   \n",
       "\n",
       "                                      instStructName_s language_s  \\\n",
       "282  Centre de Coopération Internationale en Recher...         en   \n",
       "282  Centre de Coopération Internationale en Recher...         en   \n",
       "\n",
       "    anrProjectId_i                                      labStructId_i  \\\n",
       "282          59223  29770,1100670,208163,1002357,215697,153787,670...   \n",
       "282          59223  29770,1100670,208163,1002357,215697,153787,670...   \n",
       "\n",
       "                                        instStructId_i   id  \n",
       "282  11574,110691,410122,431575,441569,11574,110691...  619  \n",
       "282  11574,110691,410122,431575,441569,11574,110691...  670  "
      ]
     },
     "execution_count": 29,
     "metadata": {},
     "output_type": "execute_result"
    }
   ],
   "source": [
    "## Vérification que je peux avoir des publications avec le même index, c'est ok, une publication\n",
    "## en collaboration entre plusieurs labo est comptée une fois par labo\n",
    "df1 = full_data[full_data.index==282]\n",
    "df1"
   ]
  },
  {
   "cell_type": "code",
   "execution_count": 30,
   "id": "76b4c8dc",
   "metadata": {
    "scrolled": true
   },
   "outputs": [],
   "source": [
    "group = full_data.groupby(['id','openAccess_bool'])['title_s'].count()"
   ]
  },
  {
   "cell_type": "code",
   "execution_count": 31,
   "id": "b546e5af",
   "metadata": {
    "scrolled": false
   },
   "outputs": [],
   "source": [
    "tableau2 = pd.DataFrame({'Total': group})"
   ]
  },
  {
   "cell_type": "code",
   "execution_count": 32,
   "id": "3a0c03af",
   "metadata": {},
   "outputs": [
    {
     "data": {
      "text/html": [
       "<div>\n",
       "<style scoped>\n",
       "    .dataframe tbody tr th:only-of-type {\n",
       "        vertical-align: middle;\n",
       "    }\n",
       "\n",
       "    .dataframe tbody tr th {\n",
       "        vertical-align: top;\n",
       "    }\n",
       "\n",
       "    .dataframe thead th {\n",
       "        text-align: right;\n",
       "    }\n",
       "</style>\n",
       "<table border=\"1\" class=\"dataframe\">\n",
       "  <thead>\n",
       "    <tr style=\"text-align: right;\">\n",
       "      <th></th>\n",
       "      <th>id</th>\n",
       "      <th>openAccess_bool</th>\n",
       "      <th>Total</th>\n",
       "      <th>%</th>\n",
       "    </tr>\n",
       "  </thead>\n",
       "  <tbody>\n",
       "    <tr>\n",
       "      <th>0</th>\n",
       "      <td>102550</td>\n",
       "      <td>False</td>\n",
       "      <td>8</td>\n",
       "      <td>17.021277</td>\n",
       "    </tr>\n",
       "    <tr>\n",
       "      <th>1</th>\n",
       "      <td>102550</td>\n",
       "      <td>True</td>\n",
       "      <td>39</td>\n",
       "      <td>82.978723</td>\n",
       "    </tr>\n",
       "    <tr>\n",
       "      <th>2</th>\n",
       "      <td>102810</td>\n",
       "      <td>False</td>\n",
       "      <td>3</td>\n",
       "      <td>75.000000</td>\n",
       "    </tr>\n",
       "    <tr>\n",
       "      <th>3</th>\n",
       "      <td>102810</td>\n",
       "      <td>True</td>\n",
       "      <td>1</td>\n",
       "      <td>25.000000</td>\n",
       "    </tr>\n",
       "    <tr>\n",
       "      <th>4</th>\n",
       "      <td>102816</td>\n",
       "      <td>False</td>\n",
       "      <td>4</td>\n",
       "      <td>25.000000</td>\n",
       "    </tr>\n",
       "    <tr>\n",
       "      <th>5</th>\n",
       "      <td>102816</td>\n",
       "      <td>True</td>\n",
       "      <td>12</td>\n",
       "      <td>75.000000</td>\n",
       "    </tr>\n",
       "    <tr>\n",
       "      <th>6</th>\n",
       "      <td>102818</td>\n",
       "      <td>False</td>\n",
       "      <td>1</td>\n",
       "      <td>20.000000</td>\n",
       "    </tr>\n",
       "    <tr>\n",
       "      <th>7</th>\n",
       "      <td>102818</td>\n",
       "      <td>True</td>\n",
       "      <td>4</td>\n",
       "      <td>80.000000</td>\n",
       "    </tr>\n",
       "    <tr>\n",
       "      <th>8</th>\n",
       "      <td>1043116</td>\n",
       "      <td>False</td>\n",
       "      <td>22</td>\n",
       "      <td>95.652174</td>\n",
       "    </tr>\n",
       "    <tr>\n",
       "      <th>9</th>\n",
       "      <td>1043116</td>\n",
       "      <td>True</td>\n",
       "      <td>1</td>\n",
       "      <td>4.347826</td>\n",
       "    </tr>\n",
       "  </tbody>\n",
       "</table>\n",
       "</div>"
      ],
      "text/plain": [
       "        id  openAccess_bool  Total          %\n",
       "0   102550            False      8  17.021277\n",
       "1   102550             True     39  82.978723\n",
       "2   102810            False      3  75.000000\n",
       "3   102810             True      1  25.000000\n",
       "4   102816            False      4  25.000000\n",
       "5   102816             True     12  75.000000\n",
       "6   102818            False      1  20.000000\n",
       "7   102818             True      4  80.000000\n",
       "8  1043116            False     22  95.652174\n",
       "9  1043116             True      1   4.347826"
      ]
     },
     "execution_count": 32,
     "metadata": {},
     "output_type": "execute_result"
    }
   ],
   "source": [
    "tableau2['%'] = 100 * tableau2['Total'] / tableau2.groupby('id')['Total'].transform('sum')\n",
    "tableau3 = tableau2.reset_index()\n",
    "tableau3.head(10)"
   ]
  },
  {
   "cell_type": "code",
   "execution_count": 33,
   "id": "1d2129d7",
   "metadata": {},
   "outputs": [
    {
     "data": {
      "text/html": [
       "<div>\n",
       "<style scoped>\n",
       "    .dataframe tbody tr th:only-of-type {\n",
       "        vertical-align: middle;\n",
       "    }\n",
       "\n",
       "    .dataframe tbody tr th {\n",
       "        vertical-align: top;\n",
       "    }\n",
       "\n",
       "    .dataframe thead th {\n",
       "        text-align: right;\n",
       "    }\n",
       "</style>\n",
       "<table border=\"1\" class=\"dataframe\">\n",
       "  <thead>\n",
       "    <tr style=\"text-align: right;\">\n",
       "      <th></th>\n",
       "      <th>id</th>\n",
       "      <th>openAccess_bool</th>\n",
       "      <th>Total</th>\n",
       "      <th>%</th>\n",
       "    </tr>\n",
       "  </thead>\n",
       "  <tbody>\n",
       "    <tr>\n",
       "      <th>0</th>\n",
       "      <td>102550</td>\n",
       "      <td>False</td>\n",
       "      <td>8</td>\n",
       "      <td>17.021277</td>\n",
       "    </tr>\n",
       "    <tr>\n",
       "      <th>1</th>\n",
       "      <td>102550</td>\n",
       "      <td>True</td>\n",
       "      <td>39</td>\n",
       "      <td>82.978723</td>\n",
       "    </tr>\n",
       "  </tbody>\n",
       "</table>\n",
       "</div>"
      ],
      "text/plain": [
       "       id  openAccess_bool  Total          %\n",
       "0  102550            False      8  17.021277\n",
       "1  102550             True     39  82.978723"
      ]
     },
     "execution_count": 33,
     "metadata": {},
     "output_type": "execute_result"
    }
   ],
   "source": [
    "tableau3['openAccess_bool'] = tableau3['openAccess_bool'].replace('False','Fermé')\n",
    "tableau3['openAccess_bool'] = tableau3['openAccess_bool'].replace('True','Ouvert')\n",
    "tableau3.head(2)"
   ]
  },
  {
   "cell_type": "code",
   "execution_count": 34,
   "id": "2a5c2002",
   "metadata": {},
   "outputs": [
    {
     "data": {
      "text/html": [
       "<div>\n",
       "<style scoped>\n",
       "    .dataframe tbody tr th:only-of-type {\n",
       "        vertical-align: middle;\n",
       "    }\n",
       "\n",
       "    .dataframe tbody tr th {\n",
       "        vertical-align: top;\n",
       "    }\n",
       "\n",
       "    .dataframe thead th {\n",
       "        text-align: right;\n",
       "    }\n",
       "</style>\n",
       "<table border=\"1\" class=\"dataframe\">\n",
       "  <thead>\n",
       "    <tr style=\"text-align: right;\">\n",
       "      <th></th>\n",
       "      <th>id</th>\n",
       "      <th>Laboratoire</th>\n",
       "    </tr>\n",
       "  </thead>\n",
       "  <tbody>\n",
       "    <tr>\n",
       "      <th>0</th>\n",
       "      <td>619</td>\n",
       "      <td>ARCHÉORIENT</td>\n",
       "    </tr>\n",
       "    <tr>\n",
       "      <th>1</th>\n",
       "      <td>444290</td>\n",
       "      <td>ArAr</td>\n",
       "    </tr>\n",
       "    <tr>\n",
       "      <th>2</th>\n",
       "      <td>3131</td>\n",
       "      <td>CERCRID</td>\n",
       "    </tr>\n",
       "    <tr>\n",
       "      <th>3</th>\n",
       "      <td>1062481</td>\n",
       "      <td>CERLA</td>\n",
       "    </tr>\n",
       "    <tr>\n",
       "      <th>4</th>\n",
       "      <td>146317</td>\n",
       "      <td>CIHAM</td>\n",
       "    </tr>\n",
       "  </tbody>\n",
       "</table>\n",
       "</div>"
      ],
      "text/plain": [
       "        id  Laboratoire\n",
       "0      619  ARCHÉORIENT\n",
       "1   444290         ArAr\n",
       "2     3131      CERCRID\n",
       "3  1062481        CERLA\n",
       "4   146317        CIHAM"
      ]
     },
     "execution_count": 34,
     "metadata": {},
     "output_type": "execute_result"
    }
   ],
   "source": [
    "tableau4 = pd.DataFrame({'id': ['619','444290','3131','1062481','146317','136794','88676','102810','191786','740','528282','145304','214341','70904',\n",
    "'2562','183072','145345','102550','49955','670','567','51028','1063691','102816','498032','447425','1043116','89915',\n",
    "'102818','2003','145356','145357'],\n",
    "                    'Laboratoire': ['ARCHÉORIENT','ArAr','CERCRID','CERLA','CIHAM','CMW','COACTIS','CRPPC','DCT','DDL','DIPHE','DISP',\n",
    "'ECP','ELICO','EMC','ERIC','EVS','GATE','GRePS','HISOMA','IAO','ICAR','IHRIM','IRAA','LADEC','LAET','LARHRA',\n",
    "'LCE','LER','LIRIS','XXI','Triangle' ]})\n",
    "tableau4.head(5)"
   ]
  },
  {
   "cell_type": "code",
   "execution_count": 35,
   "id": "7c33ca69",
   "metadata": {
    "scrolled": false
   },
   "outputs": [
    {
     "data": {
      "text/html": [
       "<div>\n",
       "<style scoped>\n",
       "    .dataframe tbody tr th:only-of-type {\n",
       "        vertical-align: middle;\n",
       "    }\n",
       "\n",
       "    .dataframe tbody tr th {\n",
       "        vertical-align: top;\n",
       "    }\n",
       "\n",
       "    .dataframe thead th {\n",
       "        text-align: right;\n",
       "    }\n",
       "</style>\n",
       "<table border=\"1\" class=\"dataframe\">\n",
       "  <thead>\n",
       "    <tr style=\"text-align: right;\">\n",
       "      <th></th>\n",
       "      <th>id</th>\n",
       "      <th>openAccess_bool</th>\n",
       "      <th>Total</th>\n",
       "      <th>%</th>\n",
       "      <th>Laboratoire</th>\n",
       "    </tr>\n",
       "  </thead>\n",
       "  <tbody>\n",
       "    <tr>\n",
       "      <th>0</th>\n",
       "      <td>102550</td>\n",
       "      <td>False</td>\n",
       "      <td>8</td>\n",
       "      <td>17.021277</td>\n",
       "      <td>GATE</td>\n",
       "    </tr>\n",
       "    <tr>\n",
       "      <th>1</th>\n",
       "      <td>102550</td>\n",
       "      <td>True</td>\n",
       "      <td>39</td>\n",
       "      <td>82.978723</td>\n",
       "      <td>GATE</td>\n",
       "    </tr>\n",
       "    <tr>\n",
       "      <th>2</th>\n",
       "      <td>102810</td>\n",
       "      <td>False</td>\n",
       "      <td>3</td>\n",
       "      <td>75.000000</td>\n",
       "      <td>CRPPC</td>\n",
       "    </tr>\n",
       "    <tr>\n",
       "      <th>3</th>\n",
       "      <td>102810</td>\n",
       "      <td>True</td>\n",
       "      <td>1</td>\n",
       "      <td>25.000000</td>\n",
       "      <td>CRPPC</td>\n",
       "    </tr>\n",
       "    <tr>\n",
       "      <th>4</th>\n",
       "      <td>102816</td>\n",
       "      <td>False</td>\n",
       "      <td>4</td>\n",
       "      <td>25.000000</td>\n",
       "      <td>IRAA</td>\n",
       "    </tr>\n",
       "  </tbody>\n",
       "</table>\n",
       "</div>"
      ],
      "text/plain": [
       "       id  openAccess_bool  Total          % Laboratoire\n",
       "0  102550            False      8  17.021277        GATE\n",
       "1  102550             True     39  82.978723        GATE\n",
       "2  102810            False      3  75.000000       CRPPC\n",
       "3  102810             True      1  25.000000       CRPPC\n",
       "4  102816            False      4  25.000000        IRAA"
      ]
     },
     "execution_count": 35,
     "metadata": {},
     "output_type": "execute_result"
    }
   ],
   "source": [
    "tableau5 = pd.merge(tableau3, \n",
    "                     tableau4, \n",
    "                     on ='id', \n",
    "                     how ='left')\n",
    "tableau5.head(5)"
   ]
  },
  {
   "cell_type": "code",
   "execution_count": 36,
   "id": "87894f24",
   "metadata": {},
   "outputs": [
    {
     "data": {
      "text/html": [
       "<div>\n",
       "<style scoped>\n",
       "    .dataframe tbody tr th:only-of-type {\n",
       "        vertical-align: middle;\n",
       "    }\n",
       "\n",
       "    .dataframe tbody tr th {\n",
       "        vertical-align: top;\n",
       "    }\n",
       "\n",
       "    .dataframe thead th {\n",
       "        text-align: right;\n",
       "    }\n",
       "</style>\n",
       "<table border=\"1\" class=\"dataframe\">\n",
       "  <thead>\n",
       "    <tr style=\"text-align: right;\">\n",
       "      <th></th>\n",
       "      <th>Laboratoire</th>\n",
       "      <th>Total</th>\n",
       "    </tr>\n",
       "  </thead>\n",
       "  <tbody>\n",
       "    <tr>\n",
       "      <th>0</th>\n",
       "      <td>ARCHÉORIENT</td>\n",
       "      <td>89</td>\n",
       "    </tr>\n",
       "    <tr>\n",
       "      <th>1</th>\n",
       "      <td>ArAr</td>\n",
       "      <td>31</td>\n",
       "    </tr>\n",
       "    <tr>\n",
       "      <th>2</th>\n",
       "      <td>CERCRID</td>\n",
       "      <td>9</td>\n",
       "    </tr>\n",
       "    <tr>\n",
       "      <th>3</th>\n",
       "      <td>CERLA</td>\n",
       "      <td>1</td>\n",
       "    </tr>\n",
       "    <tr>\n",
       "      <th>4</th>\n",
       "      <td>CIHAM</td>\n",
       "      <td>91</td>\n",
       "    </tr>\n",
       "  </tbody>\n",
       "</table>\n",
       "</div>"
      ],
      "text/plain": [
       "   Laboratoire  Total\n",
       "0  ARCHÉORIENT     89\n",
       "1         ArAr     31\n",
       "2      CERCRID      9\n",
       "3        CERLA      1\n",
       "4        CIHAM     91"
      ]
     },
     "execution_count": 36,
     "metadata": {},
     "output_type": "execute_result"
    }
   ],
   "source": [
    "tableau6 = tableau5.pivot_table('Total', index = 'Laboratoire', aggfunc=sum)\n",
    "tableau7 = tableau6.reset_index()\n",
    "tableau7.head(5)"
   ]
  },
  {
   "cell_type": "code",
   "execution_count": 37,
   "id": "2d88f464",
   "metadata": {},
   "outputs": [
    {
     "data": {
      "text/html": [
       "<div>\n",
       "<style scoped>\n",
       "    .dataframe tbody tr th:only-of-type {\n",
       "        vertical-align: middle;\n",
       "    }\n",
       "\n",
       "    .dataframe tbody tr th {\n",
       "        vertical-align: top;\n",
       "    }\n",
       "\n",
       "    .dataframe thead th {\n",
       "        text-align: right;\n",
       "    }\n",
       "</style>\n",
       "<table border=\"1\" class=\"dataframe\">\n",
       "  <thead>\n",
       "    <tr style=\"text-align: right;\">\n",
       "      <th></th>\n",
       "      <th>id</th>\n",
       "      <th>openAccess_bool</th>\n",
       "      <th>Total</th>\n",
       "      <th>%</th>\n",
       "      <th>Laboratoire</th>\n",
       "    </tr>\n",
       "  </thead>\n",
       "  <tbody>\n",
       "    <tr>\n",
       "      <th>1</th>\n",
       "      <td>102550</td>\n",
       "      <td>True</td>\n",
       "      <td>39</td>\n",
       "      <td>82.978723</td>\n",
       "      <td>GATE</td>\n",
       "    </tr>\n",
       "    <tr>\n",
       "      <th>3</th>\n",
       "      <td>102810</td>\n",
       "      <td>True</td>\n",
       "      <td>1</td>\n",
       "      <td>25.000000</td>\n",
       "      <td>CRPPC</td>\n",
       "    </tr>\n",
       "    <tr>\n",
       "      <th>5</th>\n",
       "      <td>102816</td>\n",
       "      <td>True</td>\n",
       "      <td>12</td>\n",
       "      <td>75.000000</td>\n",
       "      <td>IRAA</td>\n",
       "    </tr>\n",
       "    <tr>\n",
       "      <th>7</th>\n",
       "      <td>102818</td>\n",
       "      <td>True</td>\n",
       "      <td>4</td>\n",
       "      <td>80.000000</td>\n",
       "      <td>LER</td>\n",
       "    </tr>\n",
       "    <tr>\n",
       "      <th>9</th>\n",
       "      <td>1043116</td>\n",
       "      <td>True</td>\n",
       "      <td>1</td>\n",
       "      <td>4.347826</td>\n",
       "      <td>LARHRA</td>\n",
       "    </tr>\n",
       "  </tbody>\n",
       "</table>\n",
       "</div>"
      ],
      "text/plain": [
       "        id  openAccess_bool  Total          % Laboratoire\n",
       "1   102550             True     39  82.978723        GATE\n",
       "3   102810             True      1  25.000000       CRPPC\n",
       "5   102816             True     12  75.000000        IRAA\n",
       "7   102818             True      4  80.000000         LER\n",
       "9  1043116             True      1   4.347826      LARHRA"
      ]
     },
     "execution_count": 37,
     "metadata": {},
     "output_type": "execute_result"
    }
   ],
   "source": [
    "tableau8 = tableau5[tableau5['openAccess_bool'] == True]\n",
    "tableau8.head(5)"
   ]
  },
  {
   "cell_type": "code",
   "execution_count": 39,
   "id": "ec73e84b",
   "metadata": {},
   "outputs": [
    {
     "data": {
      "text/html": [
       "<div>\n",
       "<style scoped>\n",
       "    .dataframe tbody tr th:only-of-type {\n",
       "        vertical-align: middle;\n",
       "    }\n",
       "\n",
       "    .dataframe tbody tr th {\n",
       "        vertical-align: top;\n",
       "    }\n",
       "\n",
       "    .dataframe thead th {\n",
       "        text-align: right;\n",
       "    }\n",
       "</style>\n",
       "<table border=\"1\" class=\"dataframe\">\n",
       "  <thead>\n",
       "    <tr style=\"text-align: right;\">\n",
       "      <th></th>\n",
       "      <th>Pourcentage d'ouverture</th>\n",
       "      <th>Laboratoire</th>\n",
       "    </tr>\n",
       "  </thead>\n",
       "  <tbody>\n",
       "    <tr>\n",
       "      <th>1</th>\n",
       "      <td>82.978723</td>\n",
       "      <td>GATE</td>\n",
       "    </tr>\n",
       "    <tr>\n",
       "      <th>3</th>\n",
       "      <td>25.000000</td>\n",
       "      <td>CRPPC</td>\n",
       "    </tr>\n",
       "    <tr>\n",
       "      <th>5</th>\n",
       "      <td>75.000000</td>\n",
       "      <td>IRAA</td>\n",
       "    </tr>\n",
       "    <tr>\n",
       "      <th>7</th>\n",
       "      <td>80.000000</td>\n",
       "      <td>LER</td>\n",
       "    </tr>\n",
       "    <tr>\n",
       "      <th>9</th>\n",
       "      <td>4.347826</td>\n",
       "      <td>LARHRA</td>\n",
       "    </tr>\n",
       "  </tbody>\n",
       "</table>\n",
       "</div>"
      ],
      "text/plain": [
       "   Pourcentage d'ouverture Laboratoire\n",
       "1                82.978723        GATE\n",
       "3                25.000000       CRPPC\n",
       "5                75.000000        IRAA\n",
       "7                80.000000         LER\n",
       "9                 4.347826      LARHRA"
      ]
     },
     "execution_count": 39,
     "metadata": {},
     "output_type": "execute_result"
    }
   ],
   "source": [
    "tableau9 = tableau8.drop(columns=['id','openAccess_bool', 'Total']).rename(columns={\"%\": \"Pourcentage d'ouverture\"})\n",
    "tableau9.head(5)"
   ]
  },
  {
   "cell_type": "code",
   "execution_count": 40,
   "id": "b92983ab",
   "metadata": {},
   "outputs": [],
   "source": [
    "tableau_final = pd.merge(tableau7, \n",
    "                     tableau9, \n",
    "                     on ='Laboratoire', \n",
    "                     how ='left')"
   ]
  },
  {
   "cell_type": "code",
   "execution_count": 42,
   "id": "270d596b",
   "metadata": {
    "scrolled": true
   },
   "outputs": [
    {
     "data": {
      "text/html": [
       "<div>\n",
       "<style scoped>\n",
       "    .dataframe tbody tr th:only-of-type {\n",
       "        vertical-align: middle;\n",
       "    }\n",
       "\n",
       "    .dataframe tbody tr th {\n",
       "        vertical-align: top;\n",
       "    }\n",
       "\n",
       "    .dataframe thead th {\n",
       "        text-align: right;\n",
       "    }\n",
       "</style>\n",
       "<table border=\"1\" class=\"dataframe\">\n",
       "  <thead>\n",
       "    <tr style=\"text-align: right;\">\n",
       "      <th></th>\n",
       "      <th>Laboratoire</th>\n",
       "      <th>Total des documents HAL</th>\n",
       "      <th>Pourcentage d'ouverture</th>\n",
       "    </tr>\n",
       "  </thead>\n",
       "  <tbody>\n",
       "    <tr>\n",
       "      <th>0</th>\n",
       "      <td>ARCHÉORIENT</td>\n",
       "      <td>89</td>\n",
       "      <td>32.584270</td>\n",
       "    </tr>\n",
       "    <tr>\n",
       "      <th>1</th>\n",
       "      <td>ArAr</td>\n",
       "      <td>31</td>\n",
       "      <td>32.258065</td>\n",
       "    </tr>\n",
       "    <tr>\n",
       "      <th>2</th>\n",
       "      <td>CERCRID</td>\n",
       "      <td>9</td>\n",
       "      <td>55.555556</td>\n",
       "    </tr>\n",
       "    <tr>\n",
       "      <th>3</th>\n",
       "      <td>CERLA</td>\n",
       "      <td>1</td>\n",
       "      <td>0.000000</td>\n",
       "    </tr>\n",
       "    <tr>\n",
       "      <th>4</th>\n",
       "      <td>CIHAM</td>\n",
       "      <td>91</td>\n",
       "      <td>20.879121</td>\n",
       "    </tr>\n",
       "    <tr>\n",
       "      <th>5</th>\n",
       "      <td>CMW</td>\n",
       "      <td>114</td>\n",
       "      <td>23.684211</td>\n",
       "    </tr>\n",
       "    <tr>\n",
       "      <th>6</th>\n",
       "      <td>COACTIS</td>\n",
       "      <td>17</td>\n",
       "      <td>47.058824</td>\n",
       "    </tr>\n",
       "    <tr>\n",
       "      <th>7</th>\n",
       "      <td>CRPPC</td>\n",
       "      <td>4</td>\n",
       "      <td>25.000000</td>\n",
       "    </tr>\n",
       "    <tr>\n",
       "      <th>8</th>\n",
       "      <td>DCT</td>\n",
       "      <td>1</td>\n",
       "      <td>0.000000</td>\n",
       "    </tr>\n",
       "    <tr>\n",
       "      <th>9</th>\n",
       "      <td>DDL</td>\n",
       "      <td>139</td>\n",
       "      <td>43.884892</td>\n",
       "    </tr>\n",
       "    <tr>\n",
       "      <th>10</th>\n",
       "      <td>DIPHE</td>\n",
       "      <td>9</td>\n",
       "      <td>55.555556</td>\n",
       "    </tr>\n",
       "    <tr>\n",
       "      <th>11</th>\n",
       "      <td>DISP</td>\n",
       "      <td>2</td>\n",
       "      <td>50.000000</td>\n",
       "    </tr>\n",
       "    <tr>\n",
       "      <th>12</th>\n",
       "      <td>ECP</td>\n",
       "      <td>18</td>\n",
       "      <td>22.222222</td>\n",
       "    </tr>\n",
       "    <tr>\n",
       "      <th>13</th>\n",
       "      <td>ELICO</td>\n",
       "      <td>27</td>\n",
       "      <td>48.148148</td>\n",
       "    </tr>\n",
       "    <tr>\n",
       "      <th>14</th>\n",
       "      <td>EMC</td>\n",
       "      <td>20</td>\n",
       "      <td>65.000000</td>\n",
       "    </tr>\n",
       "    <tr>\n",
       "      <th>15</th>\n",
       "      <td>ERIC</td>\n",
       "      <td>17</td>\n",
       "      <td>94.117647</td>\n",
       "    </tr>\n",
       "    <tr>\n",
       "      <th>16</th>\n",
       "      <td>EVS</td>\n",
       "      <td>313</td>\n",
       "      <td>39.297125</td>\n",
       "    </tr>\n",
       "    <tr>\n",
       "      <th>17</th>\n",
       "      <td>GATE</td>\n",
       "      <td>47</td>\n",
       "      <td>82.978723</td>\n",
       "    </tr>\n",
       "    <tr>\n",
       "      <th>18</th>\n",
       "      <td>GRePS</td>\n",
       "      <td>11</td>\n",
       "      <td>72.727273</td>\n",
       "    </tr>\n",
       "    <tr>\n",
       "      <th>19</th>\n",
       "      <td>HISOMA</td>\n",
       "      <td>51</td>\n",
       "      <td>41.176471</td>\n",
       "    </tr>\n",
       "    <tr>\n",
       "      <th>20</th>\n",
       "      <td>IAO</td>\n",
       "      <td>46</td>\n",
       "      <td>13.043478</td>\n",
       "    </tr>\n",
       "    <tr>\n",
       "      <th>21</th>\n",
       "      <td>ICAR</td>\n",
       "      <td>729</td>\n",
       "      <td>17.558299</td>\n",
       "    </tr>\n",
       "    <tr>\n",
       "      <th>22</th>\n",
       "      <td>IHRIM</td>\n",
       "      <td>18</td>\n",
       "      <td>38.888889</td>\n",
       "    </tr>\n",
       "    <tr>\n",
       "      <th>23</th>\n",
       "      <td>IRAA</td>\n",
       "      <td>16</td>\n",
       "      <td>75.000000</td>\n",
       "    </tr>\n",
       "    <tr>\n",
       "      <th>24</th>\n",
       "      <td>LADEC</td>\n",
       "      <td>2</td>\n",
       "      <td>0.000000</td>\n",
       "    </tr>\n",
       "    <tr>\n",
       "      <th>25</th>\n",
       "      <td>LAET</td>\n",
       "      <td>7</td>\n",
       "      <td>42.857143</td>\n",
       "    </tr>\n",
       "    <tr>\n",
       "      <th>26</th>\n",
       "      <td>LARHRA</td>\n",
       "      <td>23</td>\n",
       "      <td>4.347826</td>\n",
       "    </tr>\n",
       "    <tr>\n",
       "      <th>27</th>\n",
       "      <td>LCE</td>\n",
       "      <td>2</td>\n",
       "      <td>0.000000</td>\n",
       "    </tr>\n",
       "    <tr>\n",
       "      <th>28</th>\n",
       "      <td>LER</td>\n",
       "      <td>5</td>\n",
       "      <td>80.000000</td>\n",
       "    </tr>\n",
       "    <tr>\n",
       "      <th>29</th>\n",
       "      <td>LIRIS</td>\n",
       "      <td>408</td>\n",
       "      <td>78.921569</td>\n",
       "    </tr>\n",
       "    <tr>\n",
       "      <th>30</th>\n",
       "      <td>Triangle</td>\n",
       "      <td>109</td>\n",
       "      <td>40.366972</td>\n",
       "    </tr>\n",
       "    <tr>\n",
       "      <th>31</th>\n",
       "      <td>XXI</td>\n",
       "      <td>2</td>\n",
       "      <td>0.000000</td>\n",
       "    </tr>\n",
       "  </tbody>\n",
       "</table>\n",
       "</div>"
      ],
      "text/plain": [
       "    Laboratoire  Total des documents HAL  Pourcentage d'ouverture\n",
       "0   ARCHÉORIENT                       89                32.584270\n",
       "1          ArAr                       31                32.258065\n",
       "2       CERCRID                        9                55.555556\n",
       "3         CERLA                        1                 0.000000\n",
       "4         CIHAM                       91                20.879121\n",
       "5           CMW                      114                23.684211\n",
       "6       COACTIS                       17                47.058824\n",
       "7         CRPPC                        4                25.000000\n",
       "8           DCT                        1                 0.000000\n",
       "9           DDL                      139                43.884892\n",
       "10        DIPHE                        9                55.555556\n",
       "11         DISP                        2                50.000000\n",
       "12          ECP                       18                22.222222\n",
       "13        ELICO                       27                48.148148\n",
       "14          EMC                       20                65.000000\n",
       "15         ERIC                       17                94.117647\n",
       "16          EVS                      313                39.297125\n",
       "17         GATE                       47                82.978723\n",
       "18        GRePS                       11                72.727273\n",
       "19       HISOMA                       51                41.176471\n",
       "20          IAO                       46                13.043478\n",
       "21         ICAR                      729                17.558299\n",
       "22        IHRIM                       18                38.888889\n",
       "23         IRAA                       16                75.000000\n",
       "24        LADEC                        2                 0.000000\n",
       "25         LAET                        7                42.857143\n",
       "26       LARHRA                       23                 4.347826\n",
       "27          LCE                        2                 0.000000\n",
       "28          LER                        5                80.000000\n",
       "29        LIRIS                      408                78.921569\n",
       "30     Triangle                      109                40.366972\n",
       "31          XXI                        2                 0.000000"
      ]
     },
     "execution_count": 42,
     "metadata": {},
     "output_type": "execute_result"
    }
   ],
   "source": [
    "tableau_final.fillna(0).rename(columns={\"Total\": \"Total des documents HAL\"})"
   ]
  },
  {
   "cell_type": "code",
   "execution_count": 43,
   "id": "c57d3396",
   "metadata": {
    "scrolled": true
   },
   "outputs": [
    {
     "data": {
      "text/plain": [
       "Laboratoire                 object\n",
       "Total                        int64\n",
       "Pourcentage d'ouverture    float64\n",
       "dtype: object"
      ]
     },
     "execution_count": 43,
     "metadata": {},
     "output_type": "execute_result"
    }
   ],
   "source": [
    "tableau_final.dtypes"
   ]
  },
  {
   "cell_type": "code",
   "execution_count": 44,
   "id": "abdf7b93",
   "metadata": {},
   "outputs": [],
   "source": [
    "tableau_final_bis = tableau_final.drop(columns=['Total'])"
   ]
  },
  {
   "cell_type": "code",
   "execution_count": 45,
   "id": "75283e24",
   "metadata": {},
   "outputs": [
    {
     "data": {
      "text/plain": [
       "<matplotlib.legend.Legend at 0x1f5357803d0>"
      ]
     },
     "execution_count": 45,
     "metadata": {},
     "output_type": "execute_result"
    },
    {
     "data": {
      "text/plain": [
       "<Figure size 32000x30400 with 0 Axes>"
      ]
     },
     "metadata": {},
     "output_type": "display_data"
    },
    {
     "data": {
      "image/png": "[encoded data removed]",
      "text/plain": [
       "<Figure size 640x480 with 1 Axes>"
      ]
     },
     "metadata": {},
     "output_type": "display_data"
    }
   ],
   "source": [
    "from matplotlib.pyplot import figure\n",
    "\n",
    "figure(figsize=(40, 38), dpi=800)\n",
    "\n",
    "plot2 = tableau_final_bis.plot(\n",
    "    x = 'Laboratoire',\n",
    "    kind = 'barh',\n",
    "    stacked = True,\n",
    "    title = \"Taux d'ouverture par laboratoires de Lyon 2 (Février 2023)\",\n",
    "    mark_right = False)\n",
    "#place legend in center right of plot\n",
    "plt.legend(bbox_to_anchor=(1.02, 0.1), loc='upper left', borderaxespad=0)"
   ]
  },
  {
   "cell_type": "code",
   "execution_count": 53,
   "id": "446f1238",
   "metadata": {},
   "outputs": [],
   "source": [
    "fig1 = plot1.get_figure()\n",
    "fig1.savefig('plot_1.png', dpi=400)"
   ]
  },
  {
   "cell_type": "code",
   "execution_count": 47,
   "id": "00a0f360",
   "metadata": {},
   "outputs": [],
   "source": [
    "fig2 = plot2.get_figure()\n",
    "fig2.savefig('plot_2.png', dpi=400)"
   ]
  }
 ],
 "metadata": {
  "kernelspec": {
   "display_name": "Python 3 (ipykernel)",
   "language": "python",
   "name": "python3"
  },
  "language_info": {
   "codemirror_mode": {
    "name": "ipython",
    "version": 3
   },
   "file_extension": ".py",
   "mimetype": "text/x-python",
   "name": "python",
   "nbconvert_exporter": "python",
   "pygments_lexer": "ipython3",
   "version": "3.9.13"
  }
 },
 "nbformat": 4,
 "nbformat_minor": 5
}
