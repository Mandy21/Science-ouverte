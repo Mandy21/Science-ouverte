{
 "cells": [
  {
   "cell_type": "code",
   "execution_count": 5,
   "id": "1e088c8c",
   "metadata": {},
   "outputs": [],
   "source": [
    "import pandas as pd\n",
    "import csv\n",
    "import numpy"
   ]
  },
  {
   "cell_type": "code",
   "execution_count": 6,
   "id": "243a1aee",
   "metadata": {},
   "outputs": [],
   "source": [
    "column_name = \"doi\""
   ]
  },
  {
   "cell_type": "markdown",
   "id": "af5abded",
   "metadata": {},
   "source": [
    "## <span style=\"color:black\" > 1 Importation des données du Web of Science </span>"
   ]
  },
  {
   "cell_type": "code",
   "execution_count": 13,
   "id": "e7e0e05d",
   "metadata": {},
   "outputs": [],
   "source": [
    "def read_wos(year):\n",
    "    wos_per_year = []\n",
    "    for year in range (2013, 2024):\n",
    "        wos_df = pd.read_csv(\"Data/Raw/{}/wos_lyon2_{}.csv\".format(str(year), str(year)), sep=\",\",\n",
    "                 encoding='utf-8')\n",
    "        wos_per_year.append(wos_df)\n",
    "\n",
    "    full_wos = pd.concat(wos_per_year)\n",
    "      \n",
    "    resultat_1 = pd.DataFrame({column_name: full_wos[\"AR\"]})                      \n",
    "        \n",
    "    return resultat_1"
   ]
  },
  {
   "cell_type": "code",
   "execution_count": 14,
   "id": "1b9b8936",
   "metadata": {},
   "outputs": [],
   "source": [
    "wos_df = read_wos(2013)"
   ]
  },
  {
   "cell_type": "code",
   "execution_count": 15,
   "id": "f042e63d",
   "metadata": {},
   "outputs": [
    {
     "data": {
      "text/plain": [
       "(3008, 1)"
      ]
     },
     "execution_count": 15,
     "metadata": {},
     "output_type": "execute_result"
    }
   ],
   "source": [
    "wos_df.shape"
   ]
  },
  {
   "cell_type": "code",
   "execution_count": 17,
   "id": "256e4eb0",
   "metadata": {},
   "outputs": [
    {
     "data": {
      "text/html": [
       "<div>\n",
       "<style scoped>\n",
       "    .dataframe tbody tr th:only-of-type {\n",
       "        vertical-align: middle;\n",
       "    }\n",
       "\n",
       "    .dataframe tbody tr th {\n",
       "        vertical-align: top;\n",
       "    }\n",
       "\n",
       "    .dataframe thead th {\n",
       "        text-align: right;\n",
       "    }\n",
       "</style>\n",
       "<table border=\"1\" class=\"dataframe\">\n",
       "  <thead>\n",
       "    <tr style=\"text-align: right;\">\n",
       "      <th></th>\n",
       "      <th>doi</th>\n",
       "    </tr>\n",
       "  </thead>\n",
       "  <tbody>\n",
       "    <tr>\n",
       "      <th>0</th>\n",
       "      <td>10.1016/j.system.2013.10.003</td>\n",
       "    </tr>\n",
       "    <tr>\n",
       "      <th>1</th>\n",
       "      <td>10.4074/S033805991300404X</td>\n",
       "    </tr>\n",
       "    <tr>\n",
       "      <th>2</th>\n",
       "      <td>10.1016/j.prps.2013.09.001</td>\n",
       "    </tr>\n",
       "    <tr>\n",
       "      <th>3</th>\n",
       "      <td>NaN</td>\n",
       "    </tr>\n",
       "    <tr>\n",
       "      <th>4</th>\n",
       "      <td>10.1684/pnv.2013.0427</td>\n",
       "    </tr>\n",
       "  </tbody>\n",
       "</table>\n",
       "</div>"
      ],
      "text/plain": [
       "                            doi\n",
       "0  10.1016/j.system.2013.10.003\n",
       "1     10.4074/S033805991300404X\n",
       "2    10.1016/j.prps.2013.09.001\n",
       "3                           NaN\n",
       "4         10.1684/pnv.2013.0427"
      ]
     },
     "execution_count": 17,
     "metadata": {},
     "output_type": "execute_result"
    }
   ],
   "source": [
    "wos_df.head()"
   ]
  },
  {
   "cell_type": "code",
   "execution_count": 18,
   "id": "24261558",
   "metadata": {},
   "outputs": [
    {
     "data": {
      "text/plain": [
       "doi    780\n",
       "dtype: int64"
      ]
     },
     "execution_count": 18,
     "metadata": {},
     "output_type": "execute_result"
    }
   ],
   "source": [
    "wos_df.isnull().sum()"
   ]
  },
  {
   "cell_type": "code",
   "execution_count": 19,
   "id": "005a4892",
   "metadata": {
    "scrolled": true
   },
   "outputs": [
    {
     "data": {
      "text/plain": [
       "count                             2228\n",
       "unique                            2228\n",
       "top       10.1016/j.system.2013.10.003\n",
       "freq                                 1\n",
       "Name: doi, dtype: object"
      ]
     },
     "execution_count": 19,
     "metadata": {},
     "output_type": "execute_result"
    }
   ],
   "source": [
    "wos_df.doi.describe()"
   ]
  },
  {
   "cell_type": "markdown",
   "id": "391d5a48",
   "metadata": {},
   "source": [
    "> **Il y a 780 lignes sans DOI et 2228 lignes avec DOI qui sont tous uniques.**"
   ]
  },
  {
   "cell_type": "markdown",
   "id": "c6608c46",
   "metadata": {},
   "source": [
    "## <span style=\"color:black\" > 2 Importation des données de Pubmed </span>"
   ]
  },
  {
   "cell_type": "code",
   "execution_count": 20,
   "id": "228b17ed",
   "metadata": {},
   "outputs": [],
   "source": [
    "def read_pubmed(year):\n",
    "    pubmed_per_year = []\n",
    "    for year in range (2013, 2024):\n",
    "        pubmed_df = pd.read_csv(\"Data/Raw/{}/pubmed_lyon2_{}.csv\".format(str(year), str(year))\n",
    "                                    ,sep=\",\", encoding='utf-8')\n",
    "        pubmed_per_year.append(pubmed_df)\n",
    "    \n",
    "    full_pubmed = pd.concat(pubmed_per_year)\n",
    "           \n",
    "    resultat_2 = pd.DataFrame({column_name: full_pubmed[\"DOI\"]})                      \n",
    "    \n",
    "    return resultat_2"
   ]
  },
  {
   "cell_type": "code",
   "execution_count": 21,
   "id": "0f049029",
   "metadata": {},
   "outputs": [],
   "source": [
    "pubmed_df = read_pubmed(2013)"
   ]
  },
  {
   "cell_type": "code",
   "execution_count": 23,
   "id": "fa802bef",
   "metadata": {},
   "outputs": [
    {
     "data": {
      "text/plain": [
       "(259, 1)"
      ]
     },
     "execution_count": 23,
     "metadata": {},
     "output_type": "execute_result"
    }
   ],
   "source": [
    "pubmed_df.shape"
   ]
  },
  {
   "cell_type": "code",
   "execution_count": 25,
   "id": "6ddfd9fb",
   "metadata": {},
   "outputs": [
    {
     "data": {
      "text/html": [
       "<div>\n",
       "<style scoped>\n",
       "    .dataframe tbody tr th:only-of-type {\n",
       "        vertical-align: middle;\n",
       "    }\n",
       "\n",
       "    .dataframe tbody tr th {\n",
       "        vertical-align: top;\n",
       "    }\n",
       "\n",
       "    .dataframe thead th {\n",
       "        text-align: right;\n",
       "    }\n",
       "</style>\n",
       "<table border=\"1\" class=\"dataframe\">\n",
       "  <thead>\n",
       "    <tr style=\"text-align: right;\">\n",
       "      <th></th>\n",
       "      <th>doi</th>\n",
       "    </tr>\n",
       "  </thead>\n",
       "  <tbody>\n",
       "    <tr>\n",
       "      <th>0</th>\n",
       "      <td>NaN</td>\n",
       "    </tr>\n",
       "    <tr>\n",
       "      <th>1</th>\n",
       "      <td>10.1016/j.cortex.2012.10.010</td>\n",
       "    </tr>\n",
       "    <tr>\n",
       "      <th>2</th>\n",
       "      <td>10.1016/j.ridd.2013.02.001</td>\n",
       "    </tr>\n",
       "    <tr>\n",
       "      <th>3</th>\n",
       "      <td>NaN</td>\n",
       "    </tr>\n",
       "    <tr>\n",
       "      <th>4</th>\n",
       "      <td>10.1016/j.actpsy.2013.04.009</td>\n",
       "    </tr>\n",
       "  </tbody>\n",
       "</table>\n",
       "</div>"
      ],
      "text/plain": [
       "                            doi\n",
       "0                           NaN\n",
       "1  10.1016/j.cortex.2012.10.010\n",
       "2    10.1016/j.ridd.2013.02.001\n",
       "3                           NaN\n",
       "4  10.1016/j.actpsy.2013.04.009"
      ]
     },
     "execution_count": 25,
     "metadata": {},
     "output_type": "execute_result"
    }
   ],
   "source": [
    "pubmed_df.head()"
   ]
  },
  {
   "cell_type": "code",
   "execution_count": 26,
   "id": "d25e6f75",
   "metadata": {},
   "outputs": [
    {
     "data": {
      "text/plain": [
       "doi    3\n",
       "dtype: int64"
      ]
     },
     "execution_count": 26,
     "metadata": {},
     "output_type": "execute_result"
    }
   ],
   "source": [
    "pubmed_df.isnull().sum()"
   ]
  },
  {
   "cell_type": "code",
   "execution_count": 27,
   "id": "5c0630f8",
   "metadata": {},
   "outputs": [
    {
     "data": {
      "text/plain": [
       "count                              256\n",
       "unique                             256\n",
       "top       10.1016/j.cortex.2012.10.010\n",
       "freq                                 1\n",
       "Name: doi, dtype: object"
      ]
     },
     "execution_count": 27,
     "metadata": {},
     "output_type": "execute_result"
    }
   ],
   "source": [
    "pubmed_df.doi.describe()"
   ]
  },
  {
   "cell_type": "markdown",
   "id": "59f0ccb4",
   "metadata": {},
   "source": [
    "> **Il y a 3 lignes sans DOI et 256 lignes avec DOI qui sont tous uniques.**"
   ]
  },
  {
   "cell_type": "markdown",
   "id": "3c346aa8",
   "metadata": {},
   "source": [
    "## <span style=\"color:black\" > 3 Importation des données de HAL </span>"
   ]
  },
  {
   "cell_type": "code",
   "execution_count": 28,
   "id": "82106934",
   "metadata": {},
   "outputs": [],
   "source": [
    "def read_hal(year):\n",
    "    hal_per_year = []\n",
    "    for year in range (2013, 2022):\n",
    "        hal_df = pd.read_csv(\"Data/Raw/{}/hal_lyon2_{}.csv\".format(str(year), str(year))\n",
    "                                    ,sep=\",\", encoding='utf-8')\n",
    "        hal_per_year.append(hal_df)\n",
    "    \n",
    "    full_hal = pd.concat(hal_per_year)\n",
    "           \n",
    "    resultat_3 = pd.DataFrame({column_name: full_hal[\"doiId_s\"]})                      \n",
    "    \n",
    "    return resultat_3"
   ]
  },
  {
   "cell_type": "code",
   "execution_count": 29,
   "id": "370b316d",
   "metadata": {},
   "outputs": [],
   "source": [
    "hal_df = read_hal(2013)"
   ]
  },
  {
   "cell_type": "code",
   "execution_count": 37,
   "id": "913637b5",
   "metadata": {},
   "outputs": [
    {
     "data": {
      "text/plain": [
       "(29931, 1)"
      ]
     },
     "execution_count": 37,
     "metadata": {},
     "output_type": "execute_result"
    }
   ],
   "source": [
    "hal_df.shape"
   ]
  },
  {
   "cell_type": "code",
   "execution_count": 38,
   "id": "030610c5",
   "metadata": {},
   "outputs": [
    {
     "data": {
      "text/html": [
       "<div>\n",
       "<style scoped>\n",
       "    .dataframe tbody tr th:only-of-type {\n",
       "        vertical-align: middle;\n",
       "    }\n",
       "\n",
       "    .dataframe tbody tr th {\n",
       "        vertical-align: top;\n",
       "    }\n",
       "\n",
       "    .dataframe thead th {\n",
       "        text-align: right;\n",
       "    }\n",
       "</style>\n",
       "<table border=\"1\" class=\"dataframe\">\n",
       "  <thead>\n",
       "    <tr style=\"text-align: right;\">\n",
       "      <th></th>\n",
       "      <th>doi</th>\n",
       "    </tr>\n",
       "  </thead>\n",
       "  <tbody>\n",
       "    <tr>\n",
       "      <th>0</th>\n",
       "      <td>NaN</td>\n",
       "    </tr>\n",
       "    <tr>\n",
       "      <th>1</th>\n",
       "      <td>10.4000/erea.3365</td>\n",
       "    </tr>\n",
       "    <tr>\n",
       "      <th>2</th>\n",
       "      <td>NaN</td>\n",
       "    </tr>\n",
       "    <tr>\n",
       "      <th>3</th>\n",
       "      <td>NaN</td>\n",
       "    </tr>\n",
       "    <tr>\n",
       "      <th>4</th>\n",
       "      <td>NaN</td>\n",
       "    </tr>\n",
       "  </tbody>\n",
       "</table>\n",
       "</div>"
      ],
      "text/plain": [
       "                 doi\n",
       "0                NaN\n",
       "1  10.4000/erea.3365\n",
       "2                NaN\n",
       "3                NaN\n",
       "4                NaN"
      ]
     },
     "execution_count": 38,
     "metadata": {},
     "output_type": "execute_result"
    }
   ],
   "source": [
    "hal_df.head()"
   ]
  },
  {
   "cell_type": "code",
   "execution_count": 39,
   "id": "5cd6ff3c",
   "metadata": {},
   "outputs": [
    {
     "data": {
      "text/plain": [
       "doi    22389\n",
       "dtype: int64"
      ]
     },
     "execution_count": 39,
     "metadata": {},
     "output_type": "execute_result"
    }
   ],
   "source": [
    "hal_df.isnull().sum()"
   ]
  },
  {
   "cell_type": "code",
   "execution_count": 41,
   "id": "57aea9ae",
   "metadata": {},
   "outputs": [
    {
     "data": {
      "text/html": [
       "<div>\n",
       "<style scoped>\n",
       "    .dataframe tbody tr th:only-of-type {\n",
       "        vertical-align: middle;\n",
       "    }\n",
       "\n",
       "    .dataframe tbody tr th {\n",
       "        vertical-align: top;\n",
       "    }\n",
       "\n",
       "    .dataframe thead th {\n",
       "        text-align: right;\n",
       "    }\n",
       "</style>\n",
       "<table border=\"1\" class=\"dataframe\">\n",
       "  <thead>\n",
       "    <tr style=\"text-align: right;\">\n",
       "      <th></th>\n",
       "      <th>doi</th>\n",
       "    </tr>\n",
       "  </thead>\n",
       "  <tbody>\n",
       "    <tr>\n",
       "      <th>count</th>\n",
       "      <td>7542</td>\n",
       "    </tr>\n",
       "    <tr>\n",
       "      <th>unique</th>\n",
       "      <td>7446</td>\n",
       "    </tr>\n",
       "    <tr>\n",
       "      <th>top</th>\n",
       "      <td>10.4000/books.alpara.4920</td>\n",
       "    </tr>\n",
       "    <tr>\n",
       "      <th>freq</th>\n",
       "      <td>8</td>\n",
       "    </tr>\n",
       "  </tbody>\n",
       "</table>\n",
       "</div>"
      ],
      "text/plain": [
       "                              doi\n",
       "count                        7542\n",
       "unique                       7446\n",
       "top     10.4000/books.alpara.4920\n",
       "freq                            8"
      ]
     },
     "execution_count": 41,
     "metadata": {},
     "output_type": "execute_result"
    }
   ],
   "source": [
    "hal_df.describe()"
   ]
  },
  {
   "cell_type": "markdown",
   "id": "7c06a826",
   "metadata": {},
   "source": [
    "> **Il y a 22 389 lignes sans DOI et 7542 lignes avec DOI (dont 7446 qui sont uniques).**"
   ]
  },
  {
   "cell_type": "markdown",
   "id": "aca6f88f",
   "metadata": {},
   "source": [
    "## <span style=\"color:black\" > 4 Importation des données de lens </span>"
   ]
  },
  {
   "cell_type": "code",
   "execution_count": 42,
   "id": "289e21a5",
   "metadata": {},
   "outputs": [],
   "source": [
    "def read_lens(year):\n",
    "    lens_per_year = []\n",
    "    for year in range (2013, 2022):\n",
    "        lens_df = pd.read_csv(\"Data/Raw/{}/lens_lyon2_{}.csv\".format(str(year), str(year))\n",
    "                                    ,sep=\",\", encoding='utf-8')\n",
    "        lens_per_year.append(lens_df)\n",
    "    \n",
    "    full_lens = pd.concat(lens_per_year)\n",
    "           \n",
    "    resultat_4 = pd.DataFrame({column_name: full_lens[\"DOI\"]})                      \n",
    "    \n",
    "    return resultat_4"
   ]
  },
  {
   "cell_type": "code",
   "execution_count": 43,
   "id": "4bafb859",
   "metadata": {},
   "outputs": [],
   "source": [
    "lens_df  = read_lens(2013)"
   ]
  },
  {
   "cell_type": "code",
   "execution_count": 44,
   "id": "05a2a48b",
   "metadata": {},
   "outputs": [
    {
     "data": {
      "text/plain": [
       "(862, 1)"
      ]
     },
     "execution_count": 44,
     "metadata": {},
     "output_type": "execute_result"
    }
   ],
   "source": [
    "lens_df.shape"
   ]
  },
  {
   "cell_type": "code",
   "execution_count": 45,
   "id": "8552be23",
   "metadata": {},
   "outputs": [
    {
     "data": {
      "text/html": [
       "<div>\n",
       "<style scoped>\n",
       "    .dataframe tbody tr th:only-of-type {\n",
       "        vertical-align: middle;\n",
       "    }\n",
       "\n",
       "    .dataframe tbody tr th {\n",
       "        vertical-align: top;\n",
       "    }\n",
       "\n",
       "    .dataframe thead th {\n",
       "        text-align: right;\n",
       "    }\n",
       "</style>\n",
       "<table border=\"1\" class=\"dataframe\">\n",
       "  <thead>\n",
       "    <tr style=\"text-align: right;\">\n",
       "      <th></th>\n",
       "      <th>doi</th>\n",
       "    </tr>\n",
       "  </thead>\n",
       "  <tbody>\n",
       "    <tr>\n",
       "      <th>0</th>\n",
       "      <td>NaN</td>\n",
       "    </tr>\n",
       "    <tr>\n",
       "      <th>1</th>\n",
       "      <td>NaN</td>\n",
       "    </tr>\n",
       "    <tr>\n",
       "      <th>2</th>\n",
       "      <td>NaN</td>\n",
       "    </tr>\n",
       "    <tr>\n",
       "      <th>3</th>\n",
       "      <td>NaN</td>\n",
       "    </tr>\n",
       "    <tr>\n",
       "      <th>4</th>\n",
       "      <td>10.1007/s10900-013-9739-0</td>\n",
       "    </tr>\n",
       "  </tbody>\n",
       "</table>\n",
       "</div>"
      ],
      "text/plain": [
       "                         doi\n",
       "0                        NaN\n",
       "1                        NaN\n",
       "2                        NaN\n",
       "3                        NaN\n",
       "4  10.1007/s10900-013-9739-0"
      ]
     },
     "execution_count": 45,
     "metadata": {},
     "output_type": "execute_result"
    }
   ],
   "source": [
    "lens_df.head()"
   ]
  },
  {
   "cell_type": "code",
   "execution_count": 46,
   "id": "100b5db5",
   "metadata": {},
   "outputs": [
    {
     "data": {
      "text/plain": [
       "doi    522\n",
       "dtype: int64"
      ]
     },
     "execution_count": 46,
     "metadata": {},
     "output_type": "execute_result"
    }
   ],
   "source": [
    "lens_df.isnull().sum()"
   ]
  },
  {
   "cell_type": "code",
   "execution_count": 47,
   "id": "c56e8ec0",
   "metadata": {},
   "outputs": [
    {
     "data": {
      "text/plain": [
       "count                           340\n",
       "unique                          340\n",
       "top       10.1007/s10900-013-9739-0\n",
       "freq                              1\n",
       "Name: doi, dtype: object"
      ]
     },
     "execution_count": 47,
     "metadata": {},
     "output_type": "execute_result"
    }
   ],
   "source": [
    "lens_df.doi.describe()"
   ]
  },
  {
   "cell_type": "markdown",
   "id": "f5558d5e",
   "metadata": {},
   "source": [
    "> **Il y a 522 lignes sans DOI et 340 lignes avec DOI qui sont tous uniques.**"
   ]
  },
  {
   "cell_type": "markdown",
   "id": "c6d7804a",
   "metadata": {},
   "source": [
    "## <span style=\"color:black\" > 5 Importation des données de Wikidata </span>"
   ]
  },
  {
   "cell_type": "code",
   "execution_count": 48,
   "id": "09042c94",
   "metadata": {},
   "outputs": [],
   "source": [
    "def read_wikidata(year):\n",
    "    wikidata_per_year = []\n",
    "    for year in range (2013, 2022):\n",
    "        wikidata_df = pd.read_csv(\"Data/Raw/{}/wikidata_lyon2_{}.csv\".format(str(year), str(year))\n",
    "                                    ,sep=\",\", encoding='utf-8')\n",
    "        wikidata_per_year.append(wikidata_df)\n",
    "    \n",
    "    full_wikidata = pd.concat(wikidata_per_year)\n",
    "           \n",
    "    resultat_5 = pd.DataFrame({column_name: full_wikidata[\"doi\"]})                      \n",
    "    \n",
    "    return resultat_5"
   ]
  },
  {
   "cell_type": "code",
   "execution_count": 49,
   "id": "9b08deb3",
   "metadata": {},
   "outputs": [],
   "source": [
    "wikidata_df  = read_wikidata(2013)"
   ]
  },
  {
   "cell_type": "code",
   "execution_count": 50,
   "id": "9a6170ed",
   "metadata": {},
   "outputs": [
    {
     "data": {
      "text/plain": [
       "(362, 1)"
      ]
     },
     "execution_count": 50,
     "metadata": {},
     "output_type": "execute_result"
    }
   ],
   "source": [
    "wikidata_df.shape"
   ]
  },
  {
   "cell_type": "code",
   "execution_count": 51,
   "id": "75c20338",
   "metadata": {},
   "outputs": [
    {
     "data": {
      "text/html": [
       "<div>\n",
       "<style scoped>\n",
       "    .dataframe tbody tr th:only-of-type {\n",
       "        vertical-align: middle;\n",
       "    }\n",
       "\n",
       "    .dataframe tbody tr th {\n",
       "        vertical-align: top;\n",
       "    }\n",
       "\n",
       "    .dataframe thead th {\n",
       "        text-align: right;\n",
       "    }\n",
       "</style>\n",
       "<table border=\"1\" class=\"dataframe\">\n",
       "  <thead>\n",
       "    <tr style=\"text-align: right;\">\n",
       "      <th></th>\n",
       "      <th>doi</th>\n",
       "    </tr>\n",
       "  </thead>\n",
       "  <tbody>\n",
       "    <tr>\n",
       "      <th>0</th>\n",
       "      <td>NaN</td>\n",
       "    </tr>\n",
       "    <tr>\n",
       "      <th>1</th>\n",
       "      <td>10.4000/ARCHEOMED.10003</td>\n",
       "    </tr>\n",
       "    <tr>\n",
       "      <th>2</th>\n",
       "      <td>10.1037/NEU0000046</td>\n",
       "    </tr>\n",
       "    <tr>\n",
       "      <th>3</th>\n",
       "      <td>10.1016/J.CAD.2013.06.004</td>\n",
       "    </tr>\n",
       "    <tr>\n",
       "      <th>4</th>\n",
       "      <td>10.1016/J.CORTEX.2013.10.001</td>\n",
       "    </tr>\n",
       "  </tbody>\n",
       "</table>\n",
       "</div>"
      ],
      "text/plain": [
       "                            doi\n",
       "0                           NaN\n",
       "1       10.4000/ARCHEOMED.10003\n",
       "2            10.1037/NEU0000046\n",
       "3     10.1016/J.CAD.2013.06.004\n",
       "4  10.1016/J.CORTEX.2013.10.001"
      ]
     },
     "execution_count": 51,
     "metadata": {},
     "output_type": "execute_result"
    }
   ],
   "source": [
    "wikidata_df.head()"
   ]
  },
  {
   "cell_type": "code",
   "execution_count": 52,
   "id": "5a059e42",
   "metadata": {},
   "outputs": [
    {
     "data": {
      "text/plain": [
       "doi    120\n",
       "dtype: int64"
      ]
     },
     "execution_count": 52,
     "metadata": {},
     "output_type": "execute_result"
    }
   ],
   "source": [
    "wikidata_df.isnull().sum()"
   ]
  },
  {
   "cell_type": "code",
   "execution_count": 53,
   "id": "9f83779f",
   "metadata": {
    "scrolled": true
   },
   "outputs": [
    {
     "data": {
      "text/plain": [
       "count                               242\n",
       "unique                              229\n",
       "top       10.1080/09658211.2018.1510012\n",
       "freq                                  2\n",
       "Name: doi, dtype: object"
      ]
     },
     "execution_count": 53,
     "metadata": {},
     "output_type": "execute_result"
    }
   ],
   "source": [
    "wikidata_df.doi.describe()"
   ]
  },
  {
   "cell_type": "markdown",
   "id": "e3385f4b",
   "metadata": {},
   "source": [
    "> **Il y a 120 lignes sans DOI et 242 lignes avec DOI (dont 229 qui sont uniques).**"
   ]
  },
  {
   "cell_type": "markdown",
   "id": "79916498",
   "metadata": {},
   "source": [
    "## <span style=\"color:black\" > 6 Rassembler les 5 listes de DOI (WoS, PubMed, HAL, lens, Wikidata) et enlever les doublons </span>"
   ]
  },
  {
   "cell_type": "code",
   "execution_count": 76,
   "id": "88eb52d5",
   "metadata": {},
   "outputs": [
    {
     "data": {
      "text/plain": [
       "(34422, 1)"
      ]
     },
     "execution_count": 76,
     "metadata": {},
     "output_type": "execute_result"
    }
   ],
   "source": [
    "all_lyon2 = pd.concat([wos_df, pubmed_df, hal_df, lens_df, wikidata_df])\n",
    "all_lyon2.shape"
   ]
  },
  {
   "cell_type": "code",
   "execution_count": 77,
   "id": "3a81b5f6",
   "metadata": {},
   "outputs": [
    {
     "data": {
      "text/plain": [
       "0     True\n",
       "1     True\n",
       "2     True\n",
       "3    False\n",
       "4     True\n",
       "     ...  \n",
       "2     True\n",
       "3    False\n",
       "4    False\n",
       "5    False\n",
       "6    False\n",
       "Name: doi, Length: 34422, dtype: bool"
      ]
     },
     "execution_count": 77,
     "metadata": {},
     "output_type": "execute_result"
    }
   ],
   "source": [
    "mask_doi = all_lyon2[column_name].notna()\n",
    "mask_doi"
   ]
  },
  {
   "cell_type": "code",
   "execution_count": 78,
   "id": "87d86171",
   "metadata": {},
   "outputs": [
    {
     "data": {
      "text/plain": [
       "(10608, 1)"
      ]
     },
     "execution_count": 78,
     "metadata": {},
     "output_type": "execute_result"
    }
   ],
   "source": [
    "doi_lyon2_doublons = all_lyon2[mask_doi]\n",
    "doi_lyon2_doublons.shape"
   ]
  },
  {
   "cell_type": "code",
   "execution_count": 79,
   "id": "9a5ce58d",
   "metadata": {},
   "outputs": [
    {
     "data": {
      "text/html": [
       "<div>\n",
       "<style scoped>\n",
       "    .dataframe tbody tr th:only-of-type {\n",
       "        vertical-align: middle;\n",
       "    }\n",
       "\n",
       "    .dataframe tbody tr th {\n",
       "        vertical-align: top;\n",
       "    }\n",
       "\n",
       "    .dataframe thead th {\n",
       "        text-align: right;\n",
       "    }\n",
       "</style>\n",
       "<table border=\"1\" class=\"dataframe\">\n",
       "  <thead>\n",
       "    <tr style=\"text-align: right;\">\n",
       "      <th></th>\n",
       "      <th>doi</th>\n",
       "    </tr>\n",
       "  </thead>\n",
       "  <tbody>\n",
       "    <tr>\n",
       "      <th>count</th>\n",
       "      <td>10608</td>\n",
       "    </tr>\n",
       "    <tr>\n",
       "      <th>unique</th>\n",
       "      <td>9105</td>\n",
       "    </tr>\n",
       "    <tr>\n",
       "      <th>top</th>\n",
       "      <td>10.4000/books.alpara.4920</td>\n",
       "    </tr>\n",
       "    <tr>\n",
       "      <th>freq</th>\n",
       "      <td>8</td>\n",
       "    </tr>\n",
       "  </tbody>\n",
       "</table>\n",
       "</div>"
      ],
      "text/plain": [
       "                              doi\n",
       "count                       10608\n",
       "unique                       9105\n",
       "top     10.4000/books.alpara.4920\n",
       "freq                            8"
      ]
     },
     "execution_count": 79,
     "metadata": {},
     "output_type": "execute_result"
    }
   ],
   "source": [
    "doi_lyon2_doublons.describe()"
   ]
  },
  {
   "cell_type": "code",
   "execution_count": 80,
   "id": "5a770575",
   "metadata": {},
   "outputs": [
    {
     "data": {
      "text/plain": [
       "doi    0\n",
       "dtype: int64"
      ]
     },
     "execution_count": 80,
     "metadata": {},
     "output_type": "execute_result"
    }
   ],
   "source": [
    "doi_lyon2_doublons.isnull().sum()"
   ]
  },
  {
   "cell_type": "markdown",
   "id": "29e4e7de",
   "metadata": {},
   "source": [
    "> **Il y a 10608 lignes avec un DOI (dont 9105 qui sont uniques). 10608 = 2228 (wos) + 256 (pubmed) + 7542 (HAL) + 340 (lens) + 242 (wikidata)**"
   ]
  },
  {
   "cell_type": "code",
   "execution_count": 81,
   "id": "eaca5dca",
   "metadata": {},
   "outputs": [],
   "source": [
    "doi_lyon2_doublons_minuscule = doi_lyon2_doublons[column_name].str.lower()"
   ]
  },
  {
   "cell_type": "code",
   "execution_count": 82,
   "id": "6ec8fff9",
   "metadata": {},
   "outputs": [],
   "source": [
    "doi_lyon2_doublons_df = pd.DataFrame({column_name : doi_lyon2_doublons_minuscule}) "
   ]
  },
  {
   "cell_type": "code",
   "execution_count": 83,
   "id": "e4ac5a87",
   "metadata": {},
   "outputs": [],
   "source": [
    "doi_lyon2_final = doi_lyon2_doublons_df.drop_duplicates()"
   ]
  },
  {
   "cell_type": "code",
   "execution_count": 84,
   "id": "45b1e8b9",
   "metadata": {},
   "outputs": [
    {
     "data": {
      "text/html": [
       "<div>\n",
       "<style scoped>\n",
       "    .dataframe tbody tr th:only-of-type {\n",
       "        vertical-align: middle;\n",
       "    }\n",
       "\n",
       "    .dataframe tbody tr th {\n",
       "        vertical-align: top;\n",
       "    }\n",
       "\n",
       "    .dataframe thead th {\n",
       "        text-align: right;\n",
       "    }\n",
       "</style>\n",
       "<table border=\"1\" class=\"dataframe\">\n",
       "  <thead>\n",
       "    <tr style=\"text-align: right;\">\n",
       "      <th></th>\n",
       "      <th>doi</th>\n",
       "    </tr>\n",
       "  </thead>\n",
       "  <tbody>\n",
       "    <tr>\n",
       "      <th>0</th>\n",
       "      <td>10.1016/j.system.2013.10.003</td>\n",
       "    </tr>\n",
       "    <tr>\n",
       "      <th>1</th>\n",
       "      <td>10.4074/s033805991300404x</td>\n",
       "    </tr>\n",
       "    <tr>\n",
       "      <th>2</th>\n",
       "      <td>10.1016/j.prps.2013.09.001</td>\n",
       "    </tr>\n",
       "    <tr>\n",
       "      <th>3</th>\n",
       "      <td>10.1684/pnv.2013.0427</td>\n",
       "    </tr>\n",
       "    <tr>\n",
       "      <th>4</th>\n",
       "      <td>10.1080/13554794.2012.713491</td>\n",
       "    </tr>\n",
       "  </tbody>\n",
       "</table>\n",
       "</div>"
      ],
      "text/plain": [
       "                            doi\n",
       "0  10.1016/j.system.2013.10.003\n",
       "1     10.4074/s033805991300404x\n",
       "2    10.1016/j.prps.2013.09.001\n",
       "3         10.1684/pnv.2013.0427\n",
       "4  10.1080/13554794.2012.713491"
      ]
     },
     "execution_count": 84,
     "metadata": {},
     "output_type": "execute_result"
    }
   ],
   "source": [
    "doi_lyon2_final.reset_index(drop=True, inplace=True)\n",
    "doi_lyon2_final.head()"
   ]
  },
  {
   "cell_type": "code",
   "execution_count": 85,
   "id": "5dc2f1d6",
   "metadata": {},
   "outputs": [
    {
     "data": {
      "text/plain": [
       "(8985, 1)"
      ]
     },
     "execution_count": 85,
     "metadata": {},
     "output_type": "execute_result"
    }
   ],
   "source": [
    "doi_lyon2_final.shape"
   ]
  },
  {
   "cell_type": "code",
   "execution_count": 86,
   "id": "16307b32",
   "metadata": {},
   "outputs": [
    {
     "data": {
      "text/html": [
       "<div>\n",
       "<style scoped>\n",
       "    .dataframe tbody tr th:only-of-type {\n",
       "        vertical-align: middle;\n",
       "    }\n",
       "\n",
       "    .dataframe tbody tr th {\n",
       "        vertical-align: top;\n",
       "    }\n",
       "\n",
       "    .dataframe thead th {\n",
       "        text-align: right;\n",
       "    }\n",
       "</style>\n",
       "<table border=\"1\" class=\"dataframe\">\n",
       "  <thead>\n",
       "    <tr style=\"text-align: right;\">\n",
       "      <th></th>\n",
       "      <th>doi</th>\n",
       "    </tr>\n",
       "  </thead>\n",
       "  <tbody>\n",
       "    <tr>\n",
       "      <th>count</th>\n",
       "      <td>8985</td>\n",
       "    </tr>\n",
       "    <tr>\n",
       "      <th>unique</th>\n",
       "      <td>8985</td>\n",
       "    </tr>\n",
       "    <tr>\n",
       "      <th>top</th>\n",
       "      <td>10.1016/j.system.2013.10.003</td>\n",
       "    </tr>\n",
       "    <tr>\n",
       "      <th>freq</th>\n",
       "      <td>1</td>\n",
       "    </tr>\n",
       "  </tbody>\n",
       "</table>\n",
       "</div>"
      ],
      "text/plain": [
       "                                 doi\n",
       "count                           8985\n",
       "unique                          8985\n",
       "top     10.1016/j.system.2013.10.003\n",
       "freq                               1"
      ]
     },
     "execution_count": 86,
     "metadata": {},
     "output_type": "execute_result"
    }
   ],
   "source": [
    "doi_lyon2_final.describe()"
   ]
  },
  {
   "cell_type": "markdown",
   "id": "f365faf5",
   "metadata": {},
   "source": [
    "> **Une fois tous les doi mis en minuscule et que les doublons sont retirés, on obtient un total de 8985 uniques doi**"
   ]
  },
  {
   "cell_type": "code",
   "execution_count": 87,
   "id": "d16f7243",
   "metadata": {},
   "outputs": [],
   "source": [
    "doi_lyon2_final.to_csv(\"Data\\Outputs\\doi_lyon2.csv\", index=False)"
   ]
  },
  {
   "cell_type": "code",
   "execution_count": 88,
   "id": "43ecb1e9",
   "metadata": {},
   "outputs": [],
   "source": [
    "doi_lyon2_final.to_excel(\"Data\\Outputs\\doi_lyon2.xlsx\", index = False)"
   ]
  },
  {
   "cell_type": "code",
   "execution_count": null,
   "id": "7de95d98",
   "metadata": {},
   "outputs": [],
   "source": [
    "## J'ai ajouté à la main dans excel des colonnes pour les identifiants structure dans HAL et le code thèse"
   ]
  },
  {
   "cell_type": "code",
   "execution_count": 89,
   "id": "0713499e",
   "metadata": {},
   "outputs": [],
   "source": [
    "doi_lyon2_final_2 = pd.read_excel('Data\\Outputs\\doi_lyon2.xlsx')"
   ]
  },
  {
   "cell_type": "code",
   "execution_count": 91,
   "id": "35b8dbb0",
   "metadata": {},
   "outputs": [
    {
     "data": {
      "text/plain": [
       "(8985, 6)"
      ]
     },
     "execution_count": 91,
     "metadata": {},
     "output_type": "execute_result"
    }
   ],
   "source": [
    "doi_lyon2_final_2.shape"
   ]
  },
  {
   "cell_type": "code",
   "execution_count": 93,
   "id": "aa77d740",
   "metadata": {},
   "outputs": [],
   "source": [
    "doi_lyon2_final_2.to_csv(\"Data\\Outputs\\doi_lyon2.csv\", index=False, sep = ';')>"
   ]
  },
  {
   "cell_type": "code",
   "execution_count": null,
   "id": "fbfe7b9b",
   "metadata": {},
   "outputs": [],
   "source": []
  }
 ],
 "metadata": {
  "kernelspec": {
   "display_name": "Python 3 (ipykernel)",
   "language": "python",
   "name": "python3"
  },
  "language_info": {
   "codemirror_mode": {
    "name": "ipython",
    "version": 3
   },
   "file_extension": ".py",
   "mimetype": "text/x-python",
   "name": "python",
   "nbconvert_exporter": "python",
   "pygments_lexer": "ipython3",
   "version": "3.9.13"
  }
 },
 "nbformat": 4,
 "nbformat_minor": 5
}
